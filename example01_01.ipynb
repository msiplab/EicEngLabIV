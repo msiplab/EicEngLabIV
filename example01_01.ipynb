{
  "nbformat": 4,
  "nbformat_minor": 0,
  "metadata": {
    "language_info": {
      "codemirror_mode": {
        "name": "ipython",
        "version": 3
      },
      "file_extension": ".py",
      "mimetype": "text/x-python",
      "name": "python",
      "nbconvert_exporter": "python",
      "pygments_lexer": "ipython3",
      "version": "3.8.3-final"
    },
    "orig_nbformat": 2,
    "kernelspec": {
      "name": "python38364bit1d4e77b0d338471d9f942cbdbc93c5bf",
      "display_name": "Python 3.8.3 64-bit"
    },
    "colab": {
      "name": "example01_01.ipynb",
      "provenance": [],
      "include_colab_link": true
    }
  },
  "cells": [
    {
      "cell_type": "markdown",
      "metadata": {
        "id": "view-in-github",
        "colab_type": "text"
      },
      "source": [
        "<a href=\"https://colab.research.google.com/github/msiplab/EicEngLabIV/blob/master/example01_01.ipynb\" target=\"_parent\"><img src=\"https://colab.research.google.com/assets/colab-badge.svg\" alt=\"Open In Colab\"/></a>"
      ]
    },
    {
      "cell_type": "markdown",
      "metadata": {
        "id": "yVDnk8RqsbK1",
        "colab_type": "text"
      },
      "source": [
        "# 実験Ⅳ－１　多項式回帰モデル\n",
        "\n",
        "1. サンプルデータの読み込み\n",
        "1. 線形単回帰の実行\n",
        "1. 多項式単回帰の実行\n",
        "\n"
      ]
    },
    {
      "cell_type": "code",
      "metadata": {
        "tags": [],
        "id": "frqawn2qsbK4",
        "colab_type": "code",
        "colab": {
          "base_uri": "https://localhost:8080/",
          "height": 323
        },
        "outputId": "8e358576-b143-4429-a3f3-0bd389408c98"
      },
      "source": [
        "!pip install japanize-matplotlib\n",
        "%matplotlib inline\n",
        "\n",
        "import warnings\n",
        "warnings.simplefilter('ignore') #警告を無視（コメントアウト推奨）\n",
        "\n",
        "import numpy as np\n",
        "import pandas as pd\n",
        "import matplotlib.pyplot as plt\n",
        "import seaborn as sns\n",
        "import japanize_matplotlib #日本語化matplotlib\n",
        "sns.set(font=\"IPAexGothic\") #日本語フォント設定\n"
      ],
      "execution_count": 1,
      "outputs": [
        {
          "output_type": "stream",
          "text": [
            "Collecting japanize-matplotlib\n",
            "\u001b[?25l  Downloading https://files.pythonhosted.org/packages/2c/aa/3b24d54bd02e25d63c8f23bb316694e1aad7ffdc07ba296e7c9be2f6837d/japanize-matplotlib-1.1.2.tar.gz (4.1MB)\n",
            "\u001b[K     |████████████████████████████████| 4.1MB 2.7MB/s \n",
            "\u001b[?25hRequirement already satisfied: matplotlib in /usr/local/lib/python3.6/dist-packages (from japanize-matplotlib) (3.2.2)\n",
            "Requirement already satisfied: pyparsing!=2.0.4,!=2.1.2,!=2.1.6,>=2.0.1 in /usr/local/lib/python3.6/dist-packages (from matplotlib->japanize-matplotlib) (2.4.7)\n",
            "Requirement already satisfied: python-dateutil>=2.1 in /usr/local/lib/python3.6/dist-packages (from matplotlib->japanize-matplotlib) (2.8.1)\n",
            "Requirement already satisfied: numpy>=1.11 in /usr/local/lib/python3.6/dist-packages (from matplotlib->japanize-matplotlib) (1.18.5)\n",
            "Requirement already satisfied: cycler>=0.10 in /usr/local/lib/python3.6/dist-packages (from matplotlib->japanize-matplotlib) (0.10.0)\n",
            "Requirement already satisfied: kiwisolver>=1.0.1 in /usr/local/lib/python3.6/dist-packages (from matplotlib->japanize-matplotlib) (1.2.0)\n",
            "Requirement already satisfied: six>=1.5 in /usr/local/lib/python3.6/dist-packages (from python-dateutil>=2.1->matplotlib->japanize-matplotlib) (1.12.0)\n",
            "Building wheels for collected packages: japanize-matplotlib\n",
            "  Building wheel for japanize-matplotlib (setup.py) ... \u001b[?25l\u001b[?25hdone\n",
            "  Created wheel for japanize-matplotlib: filename=japanize_matplotlib-1.1.2-cp36-none-any.whl size=4120191 sha256=b3d45dab188a0236893113f2c0d7251db467be7d5dcfd8ec652a21b98a5ecd68\n",
            "  Stored in directory: /root/.cache/pip/wheels/9c/f9/fc/bc052ce743a03f94ccc7fda73d1d389ce98216c6ffaaf65afc\n",
            "Successfully built japanize-matplotlib\n",
            "Installing collected packages: japanize-matplotlib\n",
            "Successfully installed japanize-matplotlib-1.1.2\n"
          ],
          "name": "stdout"
        }
      ]
    },
    {
      "cell_type": "markdown",
      "metadata": {
        "id": "b9m8ycG-sbLF",
        "colab_type": "text"
      },
      "source": [
        "## Google Colaboratory でファイルを読み込む\n",
        "\n",
        "以下の方法があります。\n",
        "\n",
        "1. ファイルをアップロードする\n",
        "1. URL を指定する"
      ]
    },
    {
      "cell_type": "code",
      "metadata": {
        "id": "u4DTtCE9sbLG",
        "colab_type": "code",
        "colab": {}
      },
      "source": [
        "# ファイルをアップロードする\n",
        "#from google.colab import files\n",
        "#uploaded_file = files.upload()\n",
        "#filename = next(iter(uploaded_file))\n",
        "#print(filename)\n",
        "\n",
        "# URLを指定する\n",
        "# filename = 'https://...'"
      ],
      "execution_count": 2,
      "outputs": []
    },
    {
      "cell_type": "code",
      "metadata": {
        "id": "BvF9BIyWsbLP",
        "colab_type": "code",
        "colab": {
          "base_uri": "https://localhost:8080/",
          "height": 415
        },
        "outputId": "6f4143e7-35ed-4362-fc31-a532c9af71ec"
      },
      "source": [
        "\n",
        "#観測データのファイル\n",
        "#filename = './data/practice01_01.txt'\n",
        "#filename = './data/sample01_01.csv'\n",
        "filename = 'https://raw.githubusercontent.com/msiplab/EicEngLabIV/master/data/sample01_01.csv'\n",
        "\n",
        "#観測データ（空白区切り）の読み込み\n",
        "#dataset = pd.read_csv(filename, delim_whitespace=True)\n",
        "dataset = pd.read_csv(filename)\n",
        "\n",
        "# https://scikit-learn.org/stable/datasets/index.html \n",
        "\n",
        "#データの表示\n",
        "display(dataset)\n",
        "\n",
        "#観測データ数\n",
        "nSamples = len(dataset)"
      ],
      "execution_count": 3,
      "outputs": [
        {
          "output_type": "display_data",
          "data": {
            "text/html": [
              "<div>\n",
              "<style scoped>\n",
              "    .dataframe tbody tr th:only-of-type {\n",
              "        vertical-align: middle;\n",
              "    }\n",
              "\n",
              "    .dataframe tbody tr th {\n",
              "        vertical-align: top;\n",
              "    }\n",
              "\n",
              "    .dataframe thead th {\n",
              "        text-align: right;\n",
              "    }\n",
              "</style>\n",
              "<table border=\"1\" class=\"dataframe\">\n",
              "  <thead>\n",
              "    <tr style=\"text-align: right;\">\n",
              "      <th></th>\n",
              "      <th>XDATA</th>\n",
              "      <th>YDATA</th>\n",
              "    </tr>\n",
              "  </thead>\n",
              "  <tbody>\n",
              "    <tr>\n",
              "      <th>0</th>\n",
              "      <td>0.069302</td>\n",
              "      <td>0.070821</td>\n",
              "    </tr>\n",
              "    <tr>\n",
              "      <th>1</th>\n",
              "      <td>0.076557</td>\n",
              "      <td>-0.013583</td>\n",
              "    </tr>\n",
              "    <tr>\n",
              "      <th>2</th>\n",
              "      <td>0.800217</td>\n",
              "      <td>0.971837</td>\n",
              "    </tr>\n",
              "    <tr>\n",
              "      <th>3</th>\n",
              "      <td>0.558700</td>\n",
              "      <td>0.773681</td>\n",
              "    </tr>\n",
              "    <tr>\n",
              "      <th>4</th>\n",
              "      <td>0.771222</td>\n",
              "      <td>0.986337</td>\n",
              "    </tr>\n",
              "    <tr>\n",
              "      <th>...</th>\n",
              "      <td>...</td>\n",
              "      <td>...</td>\n",
              "    </tr>\n",
              "    <tr>\n",
              "      <th>195</th>\n",
              "      <td>0.854732</td>\n",
              "      <td>1.087254</td>\n",
              "    </tr>\n",
              "    <tr>\n",
              "      <th>196</th>\n",
              "      <td>0.691767</td>\n",
              "      <td>0.979478</td>\n",
              "    </tr>\n",
              "    <tr>\n",
              "      <th>197</th>\n",
              "      <td>0.670173</td>\n",
              "      <td>0.987924</td>\n",
              "    </tr>\n",
              "    <tr>\n",
              "      <th>198</th>\n",
              "      <td>0.609969</td>\n",
              "      <td>0.835292</td>\n",
              "    </tr>\n",
              "    <tr>\n",
              "      <th>199</th>\n",
              "      <td>0.890935</td>\n",
              "      <td>0.963440</td>\n",
              "    </tr>\n",
              "  </tbody>\n",
              "</table>\n",
              "<p>200 rows × 2 columns</p>\n",
              "</div>"
            ],
            "text/plain": [
              "        XDATA     YDATA\n",
              "0    0.069302  0.070821\n",
              "1    0.076557 -0.013583\n",
              "2    0.800217  0.971837\n",
              "3    0.558700  0.773681\n",
              "4    0.771222  0.986337\n",
              "..        ...       ...\n",
              "195  0.854732  1.087254\n",
              "196  0.691767  0.979478\n",
              "197  0.670173  0.987924\n",
              "198  0.609969  0.835292\n",
              "199  0.890935  0.963440\n",
              "\n",
              "[200 rows x 2 columns]"
            ]
          },
          "metadata": {
            "tags": []
          }
        }
      ]
    },
    {
      "cell_type": "code",
      "metadata": {
        "id": "Ls3chdMpsbLX",
        "colab_type": "code",
        "colab": {}
      },
      "source": [
        "# 説明変数の設定\n",
        "x = dataset.iloc[:,0].values.reshape(-1,1) \n",
        "#display(x)\n",
        "\n",
        "# 目的変数の設定\n",
        "y = dataset.iloc[:,1].values.reshape(-1,1)\n",
        "#display(y)"
      ],
      "execution_count": 4,
      "outputs": []
    },
    {
      "cell_type": "markdown",
      "metadata": {
        "id": "hLEFnnw1sbLf",
        "colab_type": "text"
      },
      "source": [
        "## 観測データの散布図\n"
      ]
    },
    {
      "cell_type": "code",
      "metadata": {
        "tags": [],
        "id": "_1pSGbDMsbLg",
        "colab_type": "code",
        "colab": {
          "base_uri": "https://localhost:8080/",
          "height": 299
        },
        "outputId": "6a53ef69-cc30-433f-950e-2bee68800fb8"
      },
      "source": [
        "# 散布図の範囲情報の抽出\n",
        "minx = np.min(x)\n",
        "maxx = np.max(x)\n",
        "rx = maxx-minx\n",
        "cx = 0.5*rx\n",
        "miny = np.min(y)\n",
        "maxy = np.max(y)\n",
        "ry = maxy-miny\n",
        "cy = 0.5*ry\n",
        "\n",
        "# 散布図の表示\n",
        "fig, ax = plt.subplots()\n",
        "ax.scatter(x,y)\n",
        "ax.set_title(\"サンプル１\")\n",
        "ax.set_xlabel(dataset.columns[0])\n",
        "ax.set_ylabel(dataset.columns[1])\n",
        "ax.set_xlim([minx-0.1*rx,maxx+0.1*rx])\n",
        "ax.set_ylim([miny-0.1*ry,maxy+0.1*ry])\n",
        "ax.grid(True)\n",
        "plt.show()"
      ],
      "execution_count": 5,
      "outputs": [
        {
          "output_type": "display_data",
          "data": {
            "image/png": "[encoded data removed]",
            "text/plain": [
              "<Figure size 432x288 with 1 Axes>"
            ]
          },
          "metadata": {
            "tags": [],
            "needs_background": "light"
          }
        }
      ]
    },
    {
      "cell_type": "markdown",
      "metadata": {
        "id": "S1bX8T7PsbLo",
        "colab_type": "text"
      },
      "source": [
        "## 線形単回帰の実行"
      ]
    },
    {
      "cell_type": "code",
      "metadata": {
        "id": "15SqRvQnsbLp",
        "colab_type": "code",
        "colab": {
          "base_uri": "https://localhost:8080/",
          "height": 35
        },
        "outputId": "c02eb023-c141-48e4-9991-ef32d7232dce"
      },
      "source": [
        "from sklearn.linear_model import LinearRegression\n",
        "\n",
        "# 線形単回帰のインスタンス生成\n",
        "regu = LinearRegression()\n",
        "\n",
        "# 線形単回帰分析\n",
        "regu.fit(x,y)"
      ],
      "execution_count": 6,
      "outputs": [
        {
          "output_type": "execute_result",
          "data": {
            "text/plain": [
              "LinearRegression(copy_X=True, fit_intercept=True, n_jobs=None, normalize=False)"
            ]
          },
          "metadata": {
            "tags": []
          },
          "execution_count": 6
        }
      ]
    },
    {
      "cell_type": "code",
      "metadata": {
        "tags": [],
        "id": "x0GUGAp_sbLx",
        "colab_type": "code",
        "colab": {
          "base_uri": "https://localhost:8080/",
          "height": 335
        },
        "outputId": "93d1ae7b-94d9-435a-c10c-4c4e80dad6ef"
      },
      "source": [
        "# 推定結果\n",
        "beta0 = regu.intercept_[0]\n",
        "beta1 = regu.coef_[0][0]\n",
        "print(\"β0 = {0:5.2f} \".format(beta0))\n",
        "print(\"β1 = {0:5.2f} \".format(beta1))\n",
        "\n",
        "# 回帰直線をプロット\n",
        "fig, ax = plt.subplots()\n",
        "xfit = np.linspace(minx,maxx,nSamples).reshape(-1,1) # 列ベクトル化\n",
        "yfit = regu.predict(xfit)\n",
        "ax.scatter(x,y)\n",
        "ax.plot(xfit,yfit, color = 'red')\n",
        "ax.set_title(\"線形単回帰分析の結果\")\n",
        "ax.set_xlabel(dataset.columns[0])\n",
        "ax.set_ylabel(dataset.columns[1])\n",
        "ax.set_xlim([minx-0.1*rx,maxx+0.1*rx])\n",
        "ax.set_ylim([miny-0.1*ry,maxy+0.1*ry])\n",
        "ax.grid(True)\n",
        "plt.show()"
      ],
      "execution_count": 7,
      "outputs": [
        {
          "output_type": "stream",
          "text": [
            "β0 = -0.21 \n",
            "β1 =  1.42 \n"
          ],
          "name": "stdout"
        },
        {
          "output_type": "display_data",
          "data": {
            "image/png": "[encoded data removed]",
            "text/plain": [
              "<Figure size 432x288 with 1 Axes>"
            ]
          },
          "metadata": {
            "tags": [],
            "needs_background": "light"
          }
        }
      ]
    },
    {
      "cell_type": "markdown",
      "metadata": {
        "id": "78-iGATSsbL5",
        "colab_type": "text"
      },
      "source": [
        "## 多項式単回帰モデルの次数の選択\n"
      ]
    },
    {
      "cell_type": "code",
      "metadata": {
        "tags": [],
        "id": "fHQtlAfCsbL6",
        "colab_type": "code",
        "colab": {
          "base_uri": "https://localhost:8080/",
          "height": 809
        },
        "outputId": "26ddf9bf-bf59-42b1-917a-856e2d1fbf3d"
      },
      "source": [
        "from sklearn.preprocessing import PolynomialFeatures\n",
        "from sklearn.pipeline import make_pipeline\n",
        "from sklearn.metrics import mean_squared_error\n",
        "\n",
        "maxdeg = 30\n",
        "deg = np.zeros(maxdeg,dtype=int)\n",
        "aic = np.zeros(maxdeg)\n",
        "regp = [ [] for idx in range(maxdeg) ]\n",
        "for idx in range(maxdeg):\n",
        "    deg[idx] = idx+1\n",
        "    # 多項式単回帰のインスタンス生成\n",
        "    regp[idx] = make_pipeline(PolynomialFeatures(degree=deg[idx],include_bias=False),\n",
        "                         LinearRegression())\n",
        "    # 多項式単回帰分析\n",
        "    regp[idx].fit(x,y)\n",
        "\n",
        "    # AIC\n",
        "    ypred = regp[idx].predict(x)\n",
        "    mse = mean_squared_error(y,ypred)\n",
        "    aic[idx] = nSamples*np.log(2*np.pi*mse)+nSamples+2*(deg[idx]+2)\n",
        "    print(\"deg = {0:d}: AIC = {1:5.2e} \".format(deg[idx],aic[idx]))\n",
        "\n",
        "# AICのプロット\n",
        "fig, ax = plt.subplots()\n",
        "ax.plot(deg,aic)\n",
        "plt.show()\n"
      ],
      "execution_count": 8,
      "outputs": [
        {
          "output_type": "stream",
          "text": [
            "deg = 1: AIC = -1.47e+02 \n",
            "deg = 2: AIC = -1.46e+02 \n",
            "deg = 3: AIC = -3.77e+02 \n",
            "deg = 4: AIC = -3.75e+02 \n",
            "deg = 5: AIC = -5.54e+02 \n",
            "deg = 6: AIC = -5.52e+02 \n",
            "deg = 7: AIC = -6.16e+02 \n",
            "deg = 8: AIC = -6.16e+02 \n",
            "deg = 9: AIC = -6.21e+02 \n",
            "deg = 10: AIC = -6.21e+02 \n",
            "deg = 11: AIC = -6.22e+02 \n",
            "deg = 12: AIC = -6.20e+02 \n",
            "deg = 13: AIC = -6.18e+02 \n",
            "deg = 14: AIC = -6.17e+02 \n",
            "deg = 15: AIC = -6.16e+02 \n",
            "deg = 16: AIC = -6.17e+02 \n",
            "deg = 17: AIC = -6.18e+02 \n",
            "deg = 18: AIC = -6.17e+02 \n",
            "deg = 19: AIC = -6.17e+02 \n",
            "deg = 20: AIC = -6.16e+02 \n",
            "deg = 21: AIC = -6.15e+02 \n",
            "deg = 22: AIC = -6.13e+02 \n",
            "deg = 23: AIC = -6.11e+02 \n",
            "deg = 24: AIC = -6.09e+02 \n",
            "deg = 25: AIC = -6.07e+02 \n",
            "deg = 26: AIC = -6.06e+02 \n",
            "deg = 27: AIC = -6.04e+02 \n",
            "deg = 28: AIC = -6.02e+02 \n",
            "deg = 29: AIC = -6.00e+02 \n",
            "deg = 30: AIC = -6.02e+02 \n"
          ],
          "name": "stdout"
        },
        {
          "output_type": "display_data",
          "data": {
            "image/png": "[encoded data removed]",
            "text/plain": [
              "<Figure size 432x288 with 1 Axes>"
            ]
          },
          "metadata": {
            "tags": [],
            "needs_background": "light"
          }
        }
      ]
    },
    {
      "cell_type": "code",
      "metadata": {
        "id": "FCnouND0sbME",
        "colab_type": "code",
        "colab": {}
      },
      "source": [
        "# 最小のAICを与える次数\n",
        "degopt = deg[np.argmin(aic)]\n",
        "\n",
        "# 多項式単回帰のインスタンス生成\n",
        "regpopt = regp[np.argmin(aic)]"
      ],
      "execution_count": 9,
      "outputs": []
    },
    {
      "cell_type": "code",
      "metadata": {
        "tags": [],
        "id": "dVpdegyysbMJ",
        "colab_type": "code",
        "colab": {
          "base_uri": "https://localhost:8080/",
          "height": 317
        },
        "outputId": "f24303b1-579c-4da0-96d5-9abe26ba928d"
      },
      "source": [
        "# 推定結果\n",
        "beta0 = regpopt[1].intercept_[0]\n",
        "print(\"β0 = {0:5.2f} \".format(beta0))\n",
        "for idx in range(0,degopt):\n",
        "    beta = regpopt[1].coef_[0][idx]\n",
        "# 回帰曲線をプロット\n",
        "fig, ax = plt.subplots()\n",
        "yfit = regpopt.predict(xfit)\n",
        "ax.scatter(x,y)\n",
        "ax.plot(xfit,yfit, color = 'red')\n",
        "ax.set_title(\"多項式単回帰分析の結果\")\n",
        "ax.set_xlabel(dataset.columns[0])\n",
        "ax.set_ylabel(dataset.columns[1])\n",
        "ax.set_xlim([minx-0.1*rx,maxx+0.1*rx])\n",
        "ax.set_ylim([miny-0.1*ry,maxy+0.1*ry])\n",
        "ax.grid(True)\n",
        "plt.show()"
      ],
      "execution_count": 10,
      "outputs": [
        {
          "output_type": "stream",
          "text": [
            "β0 = -0.02 \n"
          ],
          "name": "stdout"
        },
        {
          "output_type": "display_data",
          "data": {
            "image/png": "[encoded data removed]",
            "text/plain": [
              "<Figure size 432x288 with 1 Axes>"
            ]
          },
          "metadata": {
            "tags": [],
            "needs_background": "light"
          }
        }
      ]
    }
  ]
}
