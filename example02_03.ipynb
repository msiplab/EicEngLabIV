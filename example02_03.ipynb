{
  "cells": [
    {
      "cell_type": "markdown",
      "metadata": {
        "colab_type": "text",
        "id": "view-in-github"
      },
      "source": [
        "<a href=\"https://colab.research.google.com/github/msiplab/EicEngLabIV/blob/master/example02_03.ipynb\" target=\"_parent\"><img src=\"https://colab.research.google.com/assets/colab-badge.svg\" alt=\"Open In Colab\"/></a>"
      ]
    },
    {
      "cell_type": "markdown",
      "metadata": {
        "id": "Dh2sunjqv8yK"
      },
      "source": [
        "# 実験Ⅳ－２　時系列データの分析\n",
        "\n",
        "1. サンプルデータの読み込み\n",
        "1. 平均 $\\mu$ と分散 $\\gamma_0$ の推定\n",
        "1. 自己共分散関数 $\\gamma_k$ と自己相関関数 $\\rho_k$ の推定\n",
        "\n",
        "新潟大学工学部工学科　電子情報通信プログラム \n",
        "\n",
        "## 準備"
      ]
    },
    {
      "cell_type": "code",
      "execution_count": null,
      "metadata": {
        "id": "2DoWeE-rv8yM",
        "tags": []
      },
      "outputs": [],
      "source": [
        "#!pip install bs4\n",
        "!pip install japanize-matplotlib\n",
        "%matplotlib inline\n",
        "\n",
        "import warnings\n",
        "warnings.simplefilter('ignore') #警告を無視（コメントアウト推奨）\n",
        "\n",
        "from urllib import request\n",
        "from bs4 import BeautifulSoup\n",
        "\n",
        "import numpy as np\n",
        "import pandas as pd\n",
        "import pandas.tseries.offsets as offsets\n",
        "import matplotlib.pyplot as plt\n",
        "import seaborn as sns\n",
        "import japanize_matplotlib #日本語化matplotlib\n",
        "sns.set(font=\"IPAexGothic\") #日本語フォント設定"
      ]
    },
    {
      "cell_type": "markdown",
      "metadata": {
        "id": "In8NMH4Ev8yS"
      },
      "source": [
        "## Webからの水位データの読み込み\n",
        "\n",
        "新潟県河川防災情報システムより\n",
        "http://doboku-bousai.pref.niigata.jp/kasen/index.html\n",
        "\n",
        "河川ライブ映像 http://www.hrr.mlit.go.jp/shinano/live/map1.html# （小千谷市11番目）\n",
        "\n",
        "以下のPythonライブラリを利用\n",
        "- urllib\n",
        "- bs4\n"
      ]
    },
    {
      "cell_type": "code",
      "execution_count": null,
      "metadata": {
        "id": "LnrleeLe7Nsn",
        "tags": []
      },
      "outputs": [],
      "source": [
        "# Web スクレイピングかファイル入力かを選択\n",
        "isWebScraping = False # Web スクレイピングを行う場合は True に設定\n",
        "\n",
        "# 解析期間の設定\n",
        "dts = '2022032501' # 開始日時\n",
        "dte = '2022123123' # 終了日時\n",
        "\n",
        "# タイムスタンプの設定\n",
        "dts00 = pd.to_datetime(dts+'00').tz_localize('Asia/Tokyo')\n",
        "dte00 = pd.to_datetime(dte+'00').tz_localize('Asia/Tokyo')\n",
        "\n",
        "# ファイルをアップロードする\n",
        "from google.colab import files\n",
        "uploaded_file = files.upload()\n",
        "filename = next(iter(uploaded_file))\n",
        "print(filename)\n",
        "\n",
        "#観測データのファイル\n",
        "#filename = './data/practice02_01.csv'\n",
        "\n",
        "if not isWebScraping:\n",
        "    # ファイルからの水位情報抽出\n",
        "    # CSVファイルの読み込み\n",
        "    df_full = pd.read_csv(filename)\n",
        "    df_full['t'] = pd.to_datetime(df_full['t'])    \n",
        "    strtitle = filename\n",
        "else:\n",
        "    # Web スクレイピングを行う場合の設定\n",
        "    # 取得したい水位観測所の情報を指定する\n",
        "    # 水位観測所IDは、下記URLから取得可能\n",
        "    # http://doboku-bousai.pref.niigata.jp/kasen/servlet/bousaiweb.servletBousaiGraph?ga=4&gk=0&gn=0&gl=0&gw=0&go=0&omp=0&opn=0&spn=0&tvm=0&tsw=0&sv=3&dk=2&mp=0&no=0&fn=0&pg=6&sitept=0&unq=12062215494&nwg=0&tmg={0}&sn={1}&wsl=3&wl=1&rg=1&sy=gra_river&psn=0&=&nw=0&tm={0}&logflg=0\n",
        "\n",
        "    # 水位観測所IDの設定\n",
        "    loc = '260' # \n",
        "\n",
        "    # 観測間隔の設定\n",
        "    interval = 1 # hour\n",
        "\n",
        "    # Webからの水位情報抽出\n",
        "    td = dte00 - dts00\n",
        "    durationinhours = int(td.total_seconds()/(3600))\n",
        "    t = [ [] for idx in range(durationinhours) ]\n",
        "    y = [ 0.0 for idx in range(durationinhours) ]\n",
        "    idt = dts00\n",
        "    idx = 0\n",
        "    while idt < dte00:\n",
        "        # 水位抽出日時の設定\n",
        "        strdt = idt.strftime('%Y%m%d%H%M')\n",
        "        ts = pd.to_datetime(idt) #.tz_localize('Asia/Tokyo')\n",
        "\n",
        "        # URLの設定\n",
        "        url = 'http://doboku-bousai.pref.niigata.jp/kasen/servlet/bousaiweb.servletBousaiGraph?ga=4&gk=0&gn=0&gl=0&gw=0&go=0&omp=0&opn=0&spn=0&tvm=0&tsw=0&sv=3&dk=2&mp=0&no=0&fn=0&pg=6&sitept=0&unq=12062215494&nwg=0&tmg={0}&sn={1}&wsl=3&wl=1&rg=1&sy=gra_river&psn=0&=&nw=0&tm={0}&logflg=0'.format(strdt,loc)\n",
        "\n",
        "        # 指定した時刻の水位情報抽出\n",
        "        response = request.urlopen(url)\n",
        "        soup = BeautifulSoup(response)\n",
        "        response.close()\n",
        "        if idt == dts00:\n",
        "            strtitle = soup.title.text.strip()\n",
        "        #print(soup.find('td', class_='tableHeaderCast').text.strip())\n",
        "        strwaterlevel = soup.find('td', class_='tableHeaderItemCen').text.strip().replace('m','')\n",
        "        try:\n",
        "            waterlevel = float(strwaterlevel)\n",
        "        except ValueError as ve:\n",
        "            waterlevel = np.nan\n",
        "\n",
        "        # リストへのデータ登録\n",
        "        t[idx] = ts\n",
        "        y[idx] = waterlevel\n",
        "\n",
        "        # 時間を更新\n",
        "        idx += 1\n",
        "        idt += offsets.Hour(interval)\n"
      ]
    },
    {
      "cell_type": "markdown",
      "metadata": {
        "id": "eOsE6PESv8yW"
      },
      "source": [
        "## 時系列データをpandas.DataFrameオブジェクトに変換\n",
        "\n",
        "pandas ライブラリの DataFrame オブジェクトに変換\n",
        "\n",
        "- t: 時刻\n",
        "- y: データの値\n"
      ]
    },
    {
      "cell_type": "code",
      "execution_count": null,
      "metadata": {
        "id": "c0QdOQItv8yX",
        "tags": []
      },
      "outputs": [],
      "source": [
        "if not isWebScraping:\n",
        "    # Localize the timestamps to match the timezone of the 't' column\n",
        "    df_timeseries = df_full[(df_full.t>=dts00) & (df_full.t<=dte00)].copy()\n",
        "    df_timeseries = df_timeseries.reset_index()\n",
        "else:\n",
        "    df_timeseries = pd.DataFrame({'t': t, 'y': y})\n",
        "display(df_timeseries)"
      ]
    },
    {
      "cell_type": "markdown",
      "metadata": {
        "id": "IxY6TOtJv8ya"
      },
      "source": [
        "## 時系列データをプロット\n",
        "\n",
        "- y: 原系列\n",
        "- y_fillna: 欠損個所を前の値で補間\n"
      ]
    },
    {
      "cell_type": "code",
      "execution_count": null,
      "metadata": {
        "id": "-TOhyON4v8yb",
        "tags": []
      },
      "outputs": [],
      "source": [
        "df_timeseries['y_fillna'] = df_timeseries['y'].fillna(method='ffill').astype(float)\n",
        "ax = df_timeseries.plot(x='t', y=['y', 'y_fillna'], figsize=(16,4), title=strtitle)"
      ]
    },
    {
      "cell_type": "markdown",
      "metadata": {
        "id": "mGvDl_Jtv8ye"
      },
      "source": [
        "ヒストグラムをプロット"
      ]
    },
    {
      "cell_type": "code",
      "execution_count": null,
      "metadata": {
        "id": "pUtu54KVv8ye",
        "tags": []
      },
      "outputs": [],
      "source": [
        "ax = df_timeseries.hist('y')\n",
        "ax[0][0].set_title(strtitle)"
      ]
    },
    {
      "cell_type": "markdown",
      "metadata": {
        "id": "lqiNC5F9v8yh"
      },
      "source": [
        "## 平均 $\\mu$ と分散 $\\gamma_0$ の推定\n",
        "\n",
        "- mean(): 標本平均を計算\n",
        "- var(): 標本分散を計算\n",
        "\n",
        "pandas.DataFrame オブジェクトのvar() メソッドのオプションで \n",
        "\n",
        "- ddof = 0 とすると N で割る最尤推定\n",
        "- ddof = 1 とすると (N-1)で割る不偏推定 ※デフォルト"
      ]
    },
    {
      "cell_type": "code",
      "execution_count": null,
      "metadata": {
        "id": "Qh5ceP3hv8yi",
        "tags": []
      },
      "outputs": [],
      "source": [
        "y_series = df_timeseries['y']\n",
        "mu = y_series.mean()\n",
        "gamma0 = y_series.var(ddof=1) \n",
        "print('平均 = {:f}, 分散 = {:f}'.format(mu,gamma0))"
      ]
    },
    {
      "cell_type": "markdown",
      "metadata": {
        "id": "iL1eJIUNv8ym"
      },
      "source": [
        "## 自己共分散関数 $\\gamma_k$ と自己相関関数 $\\rho_k$ の推定\n",
        "\n",
        "y_series は pandas.Series のオブジェクトとなっている。\n",
        "pandas.Seriesオブジェクトは以下のメソッドを備える。\n",
        "\n",
        "- cov() は共分散の不偏推定を計算\n",
        "- corr() は相関の不偏推定を計算\n",
        "\n",
        "※不偏推定から最尤推定への切替はできない\n"
      ]
    },
    {
      "cell_type": "code",
      "execution_count": null,
      "metadata": {
        "id": "BtkGAQ6Bv8ym",
        "tags": []
      },
      "outputs": [],
      "source": [
        "nlags = 40\n",
        "for lag in range(nlags+1):\n",
        "    gammak = y_series.cov(y_series.shift(lag))\n",
        "    rhok = y_series.corr(y_series.shift(lag))\n",
        "    print('γ{0:d} = {1:f}, ρ{0:d} = {2:f}'.format(lag,gammak,rhok))"
      ]
    },
    {
      "cell_type": "markdown",
      "metadata": {
        "id": "PQw8h99_v8yp"
      },
      "source": [
        "## 時系列解析ライブラリ\n",
        "\n",
        "時系列解析には，statsmodelsライブラリも利用できる。\n",
        "\n",
        "- acovf() は自己共分散関数を計算\n",
        "- acf() は自己相関関数を計算\n",
        "\n",
        "各メソッドのオプション unbiased = True で不偏推定，Falseで最尤推定となる．\n",
        "\n"
      ]
    },
    {
      "cell_type": "code",
      "execution_count": null,
      "metadata": {
        "id": "vRFimHRjv8yq",
        "tags": []
      },
      "outputs": [],
      "source": [
        "import statsmodels.api as sm\n",
        "from statsmodels.tsa import stattools\n",
        "\n",
        "#欠損値がある場合は nan が含まれる．\n",
        "#欠損個所を補間したデータを使わない場合は以下の行をコメントアウトする\n",
        "y_series = df_timeseries['y_fillna']\n",
        "\n",
        "print('自己共分散関数')\n",
        "y_acovf = stattools.acovf(y_series,unbiased=True)\n",
        "display(y_acovf)\n",
        "print('自己相関関数')\n",
        "y_acf = stattools.acf(y_series,adjusted=True)\n",
        "display(y_acf)\n"
      ]
    },
    {
      "cell_type": "markdown",
      "metadata": {
        "id": "HUEbfge8v8yy"
      },
      "source": [
        "## 原系列のコレログラムの表示\n",
        "\n",
        "自己相関のグラフをコレログラムとよぶ。コレログラムは次のコマンドで表示できる。"
      ]
    },
    {
      "cell_type": "code",
      "execution_count": null,
      "metadata": {
        "id": "MoEWzcYFv8yz"
      },
      "outputs": [],
      "source": [
        "fig = sm.graphics.tsa.plot_acf(y_series,lags=nlags)"
      ]
    },
    {
      "cell_type": "markdown",
      "metadata": {
        "id": "AGeQyJeov8y5"
      },
      "source": [
        "## 階差系列の分析\n",
        "\n",
        "ひとつ前の値との差分をとった系列を階差系列とよぶ。\n",
        "\n",
        "$\\Delta y_n = y_{n} - y_{n-1}$\n"
      ]
    },
    {
      "cell_type": "code",
      "execution_count": null,
      "metadata": {
        "id": "Mm7L1eviv8y6"
      },
      "outputs": [],
      "source": [
        "# 欠損データの補間を行わない場合\n",
        "#df_timeseries['y_diff'] = df_timeseries['y'].diff()\n",
        "# 欠損データを補間を行う場合\n",
        "df_timeseries['y_diff'] = df_timeseries['y_fillna'].diff()\n",
        "display(df_timeseries)\n",
        "df_timeseries.plot(x='t', y='y_diff', figsize=(16,4), title='{}の階差系列'.format(strtitle))\n",
        "\n"
      ]
    },
    {
      "cell_type": "markdown",
      "metadata": {
        "id": "uT9XTjvGv8y9"
      },
      "source": [
        "ヒストグラムをプロット\n"
      ]
    },
    {
      "cell_type": "code",
      "execution_count": null,
      "metadata": {
        "id": "c4o5hoywv8y-"
      },
      "outputs": [],
      "source": [
        "ax = df_timeseries.hist('y_diff')\n",
        "ax[0][0].set_title(strtitle+'（階差）')"
      ]
    },
    {
      "cell_type": "markdown",
      "metadata": {
        "id": "HJQ-SmcDv8zA"
      },
      "source": [
        "原系列 $y_n$ と階差系列 $\\Delta y_n$ のCSVへの出力"
      ]
    },
    {
      "cell_type": "code",
      "execution_count": null,
      "metadata": {
        "id": "HcG160WMv8zB"
      },
      "outputs": [],
      "source": [
        "#df_timeseries.to_csv('./data/sample02_03.csv',index=False)"
      ]
    }
  ],
  "metadata": {
    "accelerator": "GPU",
    "colab": {
      "include_colab_link": true,
      "name": "example02_03.ipynb",
      "provenance": []
    },
    "kernelspec": {
      "display_name": "Python 3",
      "language": "python",
      "name": "python3"
    },
    "language_info": {
      "codemirror_mode": {
        "name": "ipython",
        "version": 3
      },
      "file_extension": ".py",
      "mimetype": "text/x-python",
      "name": "python",
      "nbconvert_exporter": "python",
      "pygments_lexer": "ipython3",
      "version": "3.12.6"
    },
    "orig_nbformat": 2
  },
  "nbformat": 4,
  "nbformat_minor": 0
}
