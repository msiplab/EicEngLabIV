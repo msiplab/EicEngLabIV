{
  "nbformat": 4,
  "nbformat_minor": 0,
  "metadata": {
    "language_info": {
      "codemirror_mode": {
        "name": "ipython",
        "version": 3
      },
      "file_extension": ".py",
      "mimetype": "text/x-python",
      "name": "python",
      "nbconvert_exporter": "python",
      "pygments_lexer": "ipython3",
      "version": "3.8.0-final"
    },
    "orig_nbformat": 2,
    "kernelspec": {
      "name": "python_defaultSpec_1595449417241",
      "display_name": "Python 3.8.0 64-bit"
    },
    "colab": {
      "name": "example02_03.ipynb",
      "provenance": [],
      "include_colab_link": true
    },
    "accelerator": "GPU"
  },
  "cells": [
    {
      "cell_type": "markdown",
      "metadata": {
        "id": "view-in-github",
        "colab_type": "text"
      },
      "source": [
        "<a href=\"https://colab.research.google.com/github/msiplab/EicEngLabIV/blob/master/example02_03.ipynb\" target=\"_parent\"><img src=\"https://colab.research.google.com/assets/colab-badge.svg\" alt=\"Open In Colab\"/></a>"
      ]
    },
    {
      "cell_type": "markdown",
      "metadata": {
        "id": "Dh2sunjqv8yK"
      },
      "source": [
        "# 実験Ⅳ－２　時系列データの分析\n",
        "\n",
        "1. サンプルデータの読み込み\n",
        "1. 平均 $\\mu$ と分散 $\\gamma_0$ の推定\n",
        "1. 自己共分散関数 $\\gamma_k$ と自己相関関数 $\\rho_k$ の推定\n",
        "\n",
        "新潟大学工学部工学科　電子情報通信プログラム \n",
        "\n",
        "## 準備"
      ]
    },
    {
      "cell_type": "code",
      "metadata": {
        "tags": [],
        "id": "2DoWeE-rv8yM",
        "colab": {
          "base_uri": "https://localhost:8080/"
        },
        "outputId": "e13b71a6-9dc9-47dd-b45f-87aa91643623"
      },
      "source": [
        "#!pip install bs4\n",
        "!pip install japanize-matplotlib\n",
        "%matplotlib inline\n",
        "\n",
        "import warnings\n",
        "warnings.simplefilter('ignore') #警告を無視（コメントアウト推奨）\n",
        "\n",
        "from urllib import request\n",
        "from bs4 import BeautifulSoup\n",
        "\n",
        "import numpy as np\n",
        "import pandas as pd\n",
        "import pandas.tseries.offsets as offsets\n",
        "import matplotlib.pyplot as plt\n",
        "import seaborn as sns\n",
        "import japanize_matplotlib #日本語化matplotlib\n",
        "sns.set(font=\"IPAexGothic\") #日本語フォント設定"
      ],
      "execution_count": 1,
      "outputs": [
        {
          "output_type": "stream",
          "name": "stdout",
          "text": [
            "Looking in indexes: https://pypi.org/simple, https://us-python.pkg.dev/colab-wheels/public/simple/\n",
            "Collecting japanize-matplotlib\n",
            "  Downloading japanize-matplotlib-1.1.3.tar.gz (4.1 MB)\n",
            "\u001b[2K     \u001b[90m━━━━━━━━━━━━━━━━━━━━━━━━━━━━━━━━━━━━━━━━\u001b[0m \u001b[32m4.1/4.1 MB\u001b[0m \u001b[31m37.9 MB/s\u001b[0m eta \u001b[36m0:00:00\u001b[0m\n",
            "\u001b[?25h  Preparing metadata (setup.py) ... \u001b[?25l\u001b[?25hdone\n",
            "Requirement already satisfied: matplotlib in /usr/local/lib/python3.10/dist-packages (from japanize-matplotlib) (3.7.1)\n",
            "Requirement already satisfied: contourpy>=1.0.1 in /usr/local/lib/python3.10/dist-packages (from matplotlib->japanize-matplotlib) (1.0.7)\n",
            "Requirement already satisfied: cycler>=0.10 in /usr/local/lib/python3.10/dist-packages (from matplotlib->japanize-matplotlib) (0.11.0)\n",
            "Requirement already satisfied: fonttools>=4.22.0 in /usr/local/lib/python3.10/dist-packages (from matplotlib->japanize-matplotlib) (4.39.3)\n",
            "Requirement already satisfied: kiwisolver>=1.0.1 in /usr/local/lib/python3.10/dist-packages (from matplotlib->japanize-matplotlib) (1.4.4)\n",
            "Requirement already satisfied: numpy>=1.20 in /usr/local/lib/python3.10/dist-packages (from matplotlib->japanize-matplotlib) (1.22.4)\n",
            "Requirement already satisfied: packaging>=20.0 in /usr/local/lib/python3.10/dist-packages (from matplotlib->japanize-matplotlib) (23.1)\n",
            "Requirement already satisfied: pillow>=6.2.0 in /usr/local/lib/python3.10/dist-packages (from matplotlib->japanize-matplotlib) (8.4.0)\n",
            "Requirement already satisfied: pyparsing>=2.3.1 in /usr/local/lib/python3.10/dist-packages (from matplotlib->japanize-matplotlib) (3.0.9)\n",
            "Requirement already satisfied: python-dateutil>=2.7 in /usr/local/lib/python3.10/dist-packages (from matplotlib->japanize-matplotlib) (2.8.2)\n",
            "Requirement already satisfied: six>=1.5 in /usr/local/lib/python3.10/dist-packages (from python-dateutil>=2.7->matplotlib->japanize-matplotlib) (1.16.0)\n",
            "Building wheels for collected packages: japanize-matplotlib\n",
            "  Building wheel for japanize-matplotlib (setup.py) ... \u001b[?25l\u001b[?25hdone\n",
            "  Created wheel for japanize-matplotlib: filename=japanize_matplotlib-1.1.3-py3-none-any.whl size=4120257 sha256=c242b875f8eef7a5c8d4cbc4100f217626fa6f95778336ca69cc8abb895af428\n",
            "  Stored in directory: /root/.cache/pip/wheels/61/7a/6b/df1f79be9c59862525070e157e62b08eab8ece27c1b68fbb94\n",
            "Successfully built japanize-matplotlib\n",
            "Installing collected packages: japanize-matplotlib\n",
            "Successfully installed japanize-matplotlib-1.1.3\n"
          ]
        }
      ]
    },
    {
      "cell_type": "markdown",
      "metadata": {
        "id": "In8NMH4Ev8yS"
      },
      "source": [
        "## Webからの水位データの読み込み\n",
        "\n",
        "新潟県河川防災情報システムより\n",
        "http://doboku-bousai.pref.niigata.jp/kasen/index.html\n",
        "\n",
        "河川ライブ映像 http://www.hrr.mlit.go.jp/shinano/live/map1.html# （小千谷市11番目）\n",
        "\n",
        "以下のPythonライブラリを利用\n",
        "- urllib\n",
        "- bs4\n"
      ]
    },
    {
      "cell_type": "code",
      "metadata": {
        "tags": [],
        "id": "LnrleeLe7Nsn"
      },
      "source": [
        "# 水位観測所IDの設定\n",
        "loc = '260' # \n",
        "\n",
        "# 解析期間の設定\n",
        "dts = '2022032501' # 開始日時\n",
        "dte = '2022123123' # 終了日時\n",
        "interval = 1 # hour\n",
        "\n",
        "# Webからの水位情報抽出\n",
        "dts00 = pd.to_datetime(dts+'00')\n",
        "dte00 = pd.to_datetime(dte+'00')\n",
        "td = dte00 - dts00\n",
        "durationinhours = int(td.total_seconds()/(3600))\n",
        "t = [ [] for idx in range(durationinhours) ]\n",
        "y = [ 0.0 for idx in range(durationinhours) ]\n",
        "idt = dts00\n",
        "idx = 0\n",
        "while idt < dte00:\n",
        "    # 水位抽出日時の設定\n",
        "    strdt = idt.strftime('%Y%m%d%H%M')\n",
        "    ts = pd.to_datetime(idt).tz_localize('Asia/Tokyo')\n",
        "\n",
        "    # URLの設定\n",
        "    url = 'http://doboku-bousai.pref.niigata.jp/kasen/servlet/bousaiweb.servletBousaiGraph?ga=4&gk=0&gn=0&gl=0&gw=0&go=0&omp=0&opn=0&spn=0&tvm=0&tsw=0&sv=3&dk=2&mp=0&no=0&fn=0&pg=6&sitept=0&unq=12062215494&nwg=0&tmg={0}&sn={1}&wsl=3&wl=1&rg=1&sy=gra_river&psn=0&=&nw=0&tm={0}&logflg=0'.format(strdt,loc)\n",
        "\n",
        "    # 指定した時刻の水位情報抽出\n",
        "    response = request.urlopen(url)\n",
        "    soup = BeautifulSoup(response)\n",
        "    response.close()\n",
        "    if idt == dts00:\n",
        "        strtitle = soup.title.text.strip()\n",
        "    #print(soup.find('td', class_='tableHeaderCast').text.strip())\n",
        "    strwaterlevel = soup.find('td', class_='tableHeaderItemCen').text.strip().replace('m','')\n",
        "    try:\n",
        "        waterlevel = float(strwaterlevel)\n",
        "    except ValueError as ve:\n",
        "        waterlevel = np.nan\n",
        "\n",
        "    # リストへのデータ登録\n",
        "    t[idx] = ts\n",
        "    y[idx] = waterlevel\n",
        "\n",
        "    # 時間を更新\n",
        "    idx += 1\n",
        "    idt += offsets.Hour(interval)\n"
      ],
      "execution_count": null,
      "outputs": []
    },
    {
      "cell_type": "markdown",
      "metadata": {
        "id": "eOsE6PESv8yW"
      },
      "source": [
        "## 時系列データをpandas.DataFrameオブジェクトに変換\n",
        "\n",
        "pandas ライブラリの DataFrame オブジェクトに変換\n",
        "\n",
        "- t: 時刻\n",
        "- y: データの値\n"
      ]
    },
    {
      "cell_type": "code",
      "metadata": {
        "tags": [],
        "id": "c0QdOQItv8yX"
      },
      "source": [
        "df_timeseries= pd.DataFrame({'t': t, 'y': y})\n",
        "display(df_timeseries)"
      ],
      "execution_count": null,
      "outputs": []
    },
    {
      "cell_type": "markdown",
      "metadata": {
        "id": "IxY6TOtJv8ya"
      },
      "source": [
        "## 時系列データをプロット\n",
        "\n",
        "- y: 原系列\n",
        "- y_fillna: 欠損個所を前の値で補間\n"
      ]
    },
    {
      "cell_type": "code",
      "metadata": {
        "tags": [],
        "id": "-TOhyON4v8yb"
      },
      "source": [
        "df_timeseries['y_fillna'] = df_timeseries['y'].fillna(method='ffill').astype(float)\n",
        "ax = df_timeseries.plot(x='t', y=['y', 'y_fillna'], figsize=(16,4), title=strtitle)"
      ],
      "execution_count": null,
      "outputs": []
    },
    {
      "cell_type": "markdown",
      "metadata": {
        "id": "mGvDl_Jtv8ye"
      },
      "source": [
        "ヒストグラムをプロット"
      ]
    },
    {
      "cell_type": "code",
      "metadata": {
        "tags": [],
        "id": "pUtu54KVv8ye"
      },
      "source": [
        "ax = df_timeseries.hist('y')\n",
        "ax[0][0].set_title(strtitle)"
      ],
      "execution_count": null,
      "outputs": []
    },
    {
      "cell_type": "markdown",
      "metadata": {
        "id": "lqiNC5F9v8yh"
      },
      "source": [
        "## 平均 $\\mu$ と分散 $\\gamma_0$ の推定\n",
        "\n",
        "- mean(): 標本平均を計算\n",
        "- var(): 標本分散を計算\n",
        "\n",
        "pandas.DataFrame オブジェクトのvar() メソッドのオプションで \n",
        "\n",
        "- ddof = 0 とすると N で割る最尤推定\n",
        "- ddof = 1 とすると (N-1)で割る不偏推定 ※デフォルト"
      ]
    },
    {
      "cell_type": "code",
      "metadata": {
        "tags": [],
        "id": "Qh5ceP3hv8yi"
      },
      "source": [
        "y_series = df_timeseries['y']\n",
        "mu = y_series.mean()\n",
        "gamma0 = y_series.var(ddof=1) \n",
        "print('平均 = {:f}, 分散 = {:f}'.format(mu,gamma0))"
      ],
      "execution_count": null,
      "outputs": []
    },
    {
      "cell_type": "markdown",
      "metadata": {
        "id": "iL1eJIUNv8ym"
      },
      "source": [
        "## 自己共分散関数 $\\gamma_k$ と自己相関関数 $\\rho_k$ の推定\n",
        "\n",
        "y_series は pandas.Series のオブジェクトとなっている。\n",
        "pandas.Seriesオブジェクトは以下のメソッドを備える。\n",
        "\n",
        "- cov() は共分散の不偏推定を計算\n",
        "- corr() は相関の不偏推定を計算\n",
        "\n",
        "※不偏推定から最尤推定への切替はできない\n"
      ]
    },
    {
      "cell_type": "code",
      "metadata": {
        "tags": [],
        "id": "BtkGAQ6Bv8ym"
      },
      "source": [
        "nlags = 40\n",
        "for lag in range(nlags+1):\n",
        "    gammak = y_series.cov(y_series.shift(lag))\n",
        "    rhok = y_series.corr(y_series.shift(lag))\n",
        "    print('γ{0:d} = {1:f}, ρ{0:d} = {2:f}'.format(lag,gammak,rhok))"
      ],
      "execution_count": null,
      "outputs": []
    },
    {
      "cell_type": "markdown",
      "metadata": {
        "id": "PQw8h99_v8yp"
      },
      "source": [
        "## 時系列解析ライブラリ\n",
        "\n",
        "時系列解析には，statsmodelsライブラリも利用できる。\n",
        "\n",
        "- acovf() は自己共分散関数を計算\n",
        "- acf() は自己相関関数を計算\n",
        "\n",
        "各メソッドのオプション unbiased = True で不偏推定，Falseで最尤推定となる．\n",
        "\n"
      ]
    },
    {
      "cell_type": "code",
      "metadata": {
        "tags": [],
        "id": "vRFimHRjv8yq"
      },
      "source": [
        "import statsmodels.api as sm\n",
        "from statsmodels.tsa import stattools\n",
        "\n",
        "#欠損値がある場合は nan が含まれる．\n",
        "#欠損個所を補間したデータを使わない場合は以下の行をコメントアウトする\n",
        "y_series = df_timeseries['y_fillna']\n",
        "\n",
        "print('自己共分散関数')\n",
        "y_acovf = stattools.acovf(y_series,unbiased=True)\n",
        "display(y_acovf)\n",
        "print('自己相関関数')\n",
        "y_acf = stattools.acf(y_series,adjusted=True)\n",
        "display(y_acf)\n"
      ],
      "execution_count": null,
      "outputs": []
    },
    {
      "cell_type": "markdown",
      "metadata": {
        "id": "HUEbfge8v8yy"
      },
      "source": [
        "## 原系列のコレログラムの表示\n",
        "\n",
        "自己相関のグラフをコレログラムとよぶ。コレログラムは次のコマンドで表示できる。"
      ]
    },
    {
      "cell_type": "code",
      "metadata": {
        "id": "MoEWzcYFv8yz"
      },
      "source": [
        "fig = sm.graphics.tsa.plot_acf(y_series,lags=nlags)"
      ],
      "execution_count": null,
      "outputs": []
    },
    {
      "cell_type": "markdown",
      "metadata": {
        "id": "AGeQyJeov8y5"
      },
      "source": [
        "## 階差系列の分析\n",
        "\n",
        "ひとつ前の値との差分をとった系列を階差系列とよぶ。\n",
        "\n",
        "$\\Delta y_n = y_{n} - y_{n-1}$\n"
      ]
    },
    {
      "cell_type": "code",
      "metadata": {
        "id": "Mm7L1eviv8y6"
      },
      "source": [
        "# 欠損データの補間を行わない場合\n",
        "#df_timeseries['y_diff'] = df_timeseries['y'].diff()\n",
        "# 欠損データを補間を行う場合\n",
        "df_timeseries['y_diff'] = df_timeseries['y_fillna'].diff()\n",
        "display(df_timeseries)\n",
        "df_timeseries.plot(x='t', y='y_diff', figsize=(16,4), title='{}の階差系列'.format(strtitle))\n",
        "\n"
      ],
      "execution_count": null,
      "outputs": []
    },
    {
      "cell_type": "markdown",
      "metadata": {
        "id": "uT9XTjvGv8y9"
      },
      "source": [
        "ヒストグラムをプロット\n"
      ]
    },
    {
      "cell_type": "code",
      "metadata": {
        "id": "c4o5hoywv8y-"
      },
      "source": [
        "ax = df_timeseries.hist('y_diff')\n",
        "ax[0][0].set_title(strtitle+'（階差）')"
      ],
      "execution_count": null,
      "outputs": []
    },
    {
      "cell_type": "markdown",
      "metadata": {
        "id": "HJQ-SmcDv8zA"
      },
      "source": [
        "原系列 $y_n$ と階差系列 $\\Delta y_n$ のCSVへの出力"
      ]
    },
    {
      "cell_type": "code",
      "metadata": {
        "id": "HcG160WMv8zB"
      },
      "source": [
        "#df_timeseries.to_csv('./data/sample02_03.csv',index=False)"
      ],
      "execution_count": null,
      "outputs": []
    }
  ]
}