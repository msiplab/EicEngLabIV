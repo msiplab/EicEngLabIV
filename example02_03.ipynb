{
  "nbformat": 4,
  "nbformat_minor": 0,
  "metadata": {
    "language_info": {
      "codemirror_mode": {
        "name": "ipython",
        "version": 3
      },
      "file_extension": ".py",
      "mimetype": "text/x-python",
      "name": "python",
      "nbconvert_exporter": "python",
      "pygments_lexer": "ipython3",
      "version": "3.8.0-final"
    },
    "orig_nbformat": 2,
    "kernelspec": {
      "name": "python_defaultSpec_1595449417241",
      "display_name": "Python 3.8.0 64-bit"
    },
    "colab": {
      "name": "example02_03.ipynb",
      "provenance": [],
      "include_colab_link": true
    },
    "accelerator": "GPU"
  },
  "cells": [
    {
      "cell_type": "markdown",
      "metadata": {
        "id": "view-in-github",
        "colab_type": "text"
      },
      "source": [
        "<a href=\"https://colab.research.google.com/github/msiplab/EicEngLabIV/blob/develop/example02_03.ipynb\" target=\"_parent\"><img src=\"https://colab.research.google.com/assets/colab-badge.svg\" alt=\"Open In Colab\"/></a>"
      ]
    },
    {
      "cell_type": "markdown",
      "metadata": {
        "id": "Dh2sunjqv8yK",
        "colab_type": "text"
      },
      "source": [
        "# 実験Ⅳ－２　時系列データの分析\n",
        "\n",
        "1. サンプルデータの読み込み\n",
        "1. 平均 $\\mu$ と分散 $\\gamma_0$ の推定\n",
        "1. 自己共分散関数 $\\gamma_k$ と自己相関関数 $\\rho_k$ の推定\n",
        "\n",
        "新潟大学工学部工学科　電子情報通信プログラム \n",
        "\n",
        "## 準備"
      ]
    },
    {
      "cell_type": "code",
      "metadata": {
        "tags": [],
        "id": "2DoWeE-rv8yM",
        "colab_type": "code",
        "colab": {
          "base_uri": "https://localhost:8080/",
          "height": 153
        },
        "outputId": "774070e1-eb82-4da8-bbf8-43f7b18f92e4"
      },
      "source": [
        "#!pip install bs4\n",
        "!pip install japanize-matplotlib\n",
        "%matplotlib inline\n",
        "\n",
        "import warnings\n",
        "warnings.simplefilter('ignore') #警告を無視（コメントアウト推奨）\n",
        "\n",
        "from urllib import request\n",
        "from bs4 import BeautifulSoup\n",
        "\n",
        "import numpy as np\n",
        "import pandas as pd\n",
        "import pandas.tseries.offsets as offsets\n",
        "import matplotlib.pyplot as plt\n",
        "import seaborn as sns\n",
        "import japanize_matplotlib #日本語化matplotlib\n",
        "sns.set(font=\"IPAexGothic\") #日本語フォント設定"
      ],
      "execution_count": 1,
      "outputs": [
        {
          "output_type": "stream",
          "text": [
            "Requirement already satisfied: japanize-matplotlib in /usr/local/lib/python3.6/dist-packages (1.1.2)\n",
            "Requirement already satisfied: matplotlib in /usr/local/lib/python3.6/dist-packages (from japanize-matplotlib) (3.2.2)\n",
            "Requirement already satisfied: kiwisolver>=1.0.1 in /usr/local/lib/python3.6/dist-packages (from matplotlib->japanize-matplotlib) (1.2.0)\n",
            "Requirement already satisfied: python-dateutil>=2.1 in /usr/local/lib/python3.6/dist-packages (from matplotlib->japanize-matplotlib) (2.8.1)\n",
            "Requirement already satisfied: pyparsing!=2.0.4,!=2.1.2,!=2.1.6,>=2.0.1 in /usr/local/lib/python3.6/dist-packages (from matplotlib->japanize-matplotlib) (2.4.7)\n",
            "Requirement already satisfied: numpy>=1.11 in /usr/local/lib/python3.6/dist-packages (from matplotlib->japanize-matplotlib) (1.18.5)\n",
            "Requirement already satisfied: cycler>=0.10 in /usr/local/lib/python3.6/dist-packages (from matplotlib->japanize-matplotlib) (0.10.0)\n",
            "Requirement already satisfied: six>=1.5 in /usr/local/lib/python3.6/dist-packages (from python-dateutil>=2.1->matplotlib->japanize-matplotlib) (1.15.0)\n"
          ],
          "name": "stdout"
        }
      ]
    },
    {
      "cell_type": "markdown",
      "metadata": {
        "id": "In8NMH4Ev8yS",
        "colab_type": "text"
      },
      "source": [
        "## Webからの水位データの読み込み\n",
        "\n",
        "新潟県河川防災情報システムより\n",
        "http://doboku-bousai.pref.niigata.jp/kasen/index.html\n",
        "\n",
        "河川ライブ映像 http://www.hrr.mlit.go.jp/shinano/live/map1.html# （小千谷市11番目）\n",
        "\n",
        "以下のPythonライブラリを利用\n",
        "- urllib\n",
        "- bs4\n"
      ]
    },
    {
      "cell_type": "code",
      "metadata": {
        "tags": [],
        "id": "LnrleeLe7Nsn",
        "colab_type": "code",
        "colab": {}
      },
      "source": [
        "# 水位観測所IDの設定\n",
        "loc = '260' # \n",
        "\n",
        "# 解析期間の設定\n",
        "dts = '2020070101' # 開始日時\n",
        "dte = '2020072300' # 終了日時\n",
        "interval = 1 # hour\n",
        "\n",
        "# Webからの水位情報抽出\n",
        "dts00 = pd.to_datetime(dts+'00')\n",
        "dte00 = pd.to_datetime(dte+'00')\n",
        "td = dte00 - dts00\n",
        "durationinhours = int(td.total_seconds()/(3600))\n",
        "t = [ [] for idx in range(durationinhours) ]\n",
        "y = [ 0.0 for idx in range(durationinhours) ]\n",
        "idt = dts00\n",
        "idx = 0\n",
        "while idt < dte00:\n",
        "    # 水位抽出日時の設定\n",
        "    strdt = idt.strftime('%Y%m%d%H%M')\n",
        "    ts = pd.to_datetime(idt).tz_localize('Asia/Tokyo')\n",
        "\n",
        "    # URLの設定\n",
        "    url = 'http://doboku-bousai.pref.niigata.jp/kasen/servlet/bousaiweb.servletBousaiGraph?ga=4&gk=0&gn=0&gl=0&gw=0&go=0&omp=0&opn=0&spn=0&tvm=0&tsw=0&sv=3&dk=2&mp=0&no=0&fn=0&pg=6&sitept=0&unq=12062215494&nwg=0&tmg={0}&sn={1}&wsl=3&wl=1&rg=1&sy=gra_river&psn=0&=&nw=0&tm={0}&logflg=0'.format(strdt,loc)\n",
        "\n",
        "    # 指定した時刻の水位情報抽出\n",
        "    response = request.urlopen(url)\n",
        "    soup = BeautifulSoup(response)\n",
        "    response.close()\n",
        "    if idt == dts00:\n",
        "        strtitle = soup.title.text.strip()\n",
        "    #print(soup.find('td', class_='tableHeaderCast').text.strip())\n",
        "    strwaterlevel = soup.find('td', class_='tableHeaderItemCen').text.strip().replace('m','')\n",
        "    try:\n",
        "        waterlevel = float(strwaterlevel)\n",
        "    except ValueError as ve:\n",
        "        waterlevel = np.nan\n",
        "\n",
        "    # リストへのデータ登録\n",
        "    t[idx] = ts\n",
        "    y[idx] = waterlevel\n",
        "\n",
        "    # 時間を更新\n",
        "    idx += 1\n",
        "    idt += offsets.Hour(interval)\n"
      ],
      "execution_count": 2,
      "outputs": []
    },
    {
      "cell_type": "markdown",
      "metadata": {
        "id": "eOsE6PESv8yW",
        "colab_type": "text"
      },
      "source": [
        "## 時系列データをpandas.DataFrameオブジェクトに変換\n",
        "\n",
        "pandas ライブラリの DataFrame オブジェクトに変換\n",
        "\n",
        "- t: 時刻\n",
        "- y: データの値\n"
      ]
    },
    {
      "cell_type": "code",
      "metadata": {
        "tags": [],
        "id": "c0QdOQItv8yX",
        "colab_type": "code",
        "colab": {
          "base_uri": "https://localhost:8080/",
          "height": 419
        },
        "outputId": "901ba66e-3ae0-42a5-fa80-3972dc730cc6"
      },
      "source": [
        "df_timeseries= pd.DataFrame({'t': t, 'y': y})\n",
        "display(df_timeseries)"
      ],
      "execution_count": 3,
      "outputs": [
        {
          "output_type": "display_data",
          "data": {
            "text/html": [
              "<div>\n",
              "<style scoped>\n",
              "    .dataframe tbody tr th:only-of-type {\n",
              "        vertical-align: middle;\n",
              "    }\n",
              "\n",
              "    .dataframe tbody tr th {\n",
              "        vertical-align: top;\n",
              "    }\n",
              "\n",
              "    .dataframe thead th {\n",
              "        text-align: right;\n",
              "    }\n",
              "</style>\n",
              "<table border=\"1\" class=\"dataframe\">\n",
              "  <thead>\n",
              "    <tr style=\"text-align: right;\">\n",
              "      <th></th>\n",
              "      <th>t</th>\n",
              "      <th>y</th>\n",
              "    </tr>\n",
              "  </thead>\n",
              "  <tbody>\n",
              "    <tr>\n",
              "      <th>0</th>\n",
              "      <td>2020-07-01 01:00:00+09:00</td>\n",
              "      <td>42.29</td>\n",
              "    </tr>\n",
              "    <tr>\n",
              "      <th>1</th>\n",
              "      <td>2020-07-01 02:00:00+09:00</td>\n",
              "      <td>42.31</td>\n",
              "    </tr>\n",
              "    <tr>\n",
              "      <th>2</th>\n",
              "      <td>2020-07-01 03:00:00+09:00</td>\n",
              "      <td>42.32</td>\n",
              "    </tr>\n",
              "    <tr>\n",
              "      <th>3</th>\n",
              "      <td>2020-07-01 04:00:00+09:00</td>\n",
              "      <td>42.43</td>\n",
              "    </tr>\n",
              "    <tr>\n",
              "      <th>4</th>\n",
              "      <td>2020-07-01 05:00:00+09:00</td>\n",
              "      <td>42.52</td>\n",
              "    </tr>\n",
              "    <tr>\n",
              "      <th>...</th>\n",
              "      <td>...</td>\n",
              "      <td>...</td>\n",
              "    </tr>\n",
              "    <tr>\n",
              "      <th>522</th>\n",
              "      <td>2020-07-22 19:00:00+09:00</td>\n",
              "      <td>43.76</td>\n",
              "    </tr>\n",
              "    <tr>\n",
              "      <th>523</th>\n",
              "      <td>2020-07-22 20:00:00+09:00</td>\n",
              "      <td>43.67</td>\n",
              "    </tr>\n",
              "    <tr>\n",
              "      <th>524</th>\n",
              "      <td>2020-07-22 21:00:00+09:00</td>\n",
              "      <td>43.55</td>\n",
              "    </tr>\n",
              "    <tr>\n",
              "      <th>525</th>\n",
              "      <td>2020-07-22 22:00:00+09:00</td>\n",
              "      <td>43.34</td>\n",
              "    </tr>\n",
              "    <tr>\n",
              "      <th>526</th>\n",
              "      <td>2020-07-22 23:00:00+09:00</td>\n",
              "      <td>43.27</td>\n",
              "    </tr>\n",
              "  </tbody>\n",
              "</table>\n",
              "<p>527 rows × 2 columns</p>\n",
              "</div>"
            ],
            "text/plain": [
              "                            t      y\n",
              "0   2020-07-01 01:00:00+09:00  42.29\n",
              "1   2020-07-01 02:00:00+09:00  42.31\n",
              "2   2020-07-01 03:00:00+09:00  42.32\n",
              "3   2020-07-01 04:00:00+09:00  42.43\n",
              "4   2020-07-01 05:00:00+09:00  42.52\n",
              "..                        ...    ...\n",
              "522 2020-07-22 19:00:00+09:00  43.76\n",
              "523 2020-07-22 20:00:00+09:00  43.67\n",
              "524 2020-07-22 21:00:00+09:00  43.55\n",
              "525 2020-07-22 22:00:00+09:00  43.34\n",
              "526 2020-07-22 23:00:00+09:00  43.27\n",
              "\n",
              "[527 rows x 2 columns]"
            ]
          },
          "metadata": {
            "tags": []
          }
        }
      ]
    },
    {
      "cell_type": "markdown",
      "metadata": {
        "id": "IxY6TOtJv8ya",
        "colab_type": "text"
      },
      "source": [
        "## 時系列データをプロット\n",
        "\n",
        "- y: 原系列\n",
        "- y_fillna: 欠損個所を前の値で補間\n"
      ]
    },
    {
      "cell_type": "code",
      "metadata": {
        "tags": [],
        "id": "-TOhyON4v8yb",
        "colab_type": "code",
        "colab": {
          "base_uri": "https://localhost:8080/",
          "height": 309
        },
        "outputId": "339e2297-8373-42c6-f372-cd408fe19feb"
      },
      "source": [
        "df_timeseries['y_fillna'] = df_timeseries['y'].fillna(method='ffill').astype(float) \n",
        "ax = df_timeseries.plot(x='t', y={'y', 'y_fillna'}, figsize=(16,4), title=strtitle)\n"
      ],
      "execution_count": 4,
      "outputs": [
        {
          "output_type": "display_data",
          "data": {
            "image/png": "[encoded data removed]",
            "text/plain": [
              "<Figure size 1152x288 with 1 Axes>"
            ]
          },
          "metadata": {
            "tags": [],
            "needs_background": "light"
          }
        }
      ]
    },
    {
      "cell_type": "markdown",
      "metadata": {
        "id": "mGvDl_Jtv8ye",
        "colab_type": "text"
      },
      "source": [
        "ヒストグラムをプロット"
      ]
    },
    {
      "cell_type": "code",
      "metadata": {
        "tags": [],
        "id": "pUtu54KVv8ye",
        "colab_type": "code",
        "colab": {
          "base_uri": "https://localhost:8080/",
          "height": 302
        },
        "outputId": "78f2d55d-1b87-46ae-a616-b36c28b98227"
      },
      "source": [
        "ax = df_timeseries.hist('y')\n",
        "ax[0][0].set_title(strtitle)"
      ],
      "execution_count": 5,
      "outputs": [
        {
          "output_type": "execute_result",
          "data": {
            "text/plain": [
              "Text(0.5, 1.0, '水位グラフ[小千谷]')"
            ]
          },
          "metadata": {
            "tags": []
          },
          "execution_count": 5
        },
        {
          "output_type": "display_data",
          "data": {
            "image/png": "[encoded data removed]",
            "text/plain": [
              "<Figure size 432x288 with 1 Axes>"
            ]
          },
          "metadata": {
            "tags": [],
            "needs_background": "light"
          }
        }
      ]
    },
    {
      "cell_type": "markdown",
      "metadata": {
        "id": "lqiNC5F9v8yh",
        "colab_type": "text"
      },
      "source": [
        "## 平均 $\\mu$ と分散 $\\gamma_0$ の推定\n",
        "\n",
        "- mean(): 標本平均を計算\n",
        "- var(): 標本分散を計算\n",
        "\n",
        "pandas.DataFrame オブジェクトのvar() メソッドのオプションで \n",
        "\n",
        "- ddof = 0 とすると N で割る最尤推定\n",
        "- ddof = 1 とすると (N-1)で割る不偏推定 ※デフォルト"
      ]
    },
    {
      "cell_type": "code",
      "metadata": {
        "tags": [],
        "id": "Qh5ceP3hv8yi",
        "colab_type": "code",
        "colab": {
          "base_uri": "https://localhost:8080/",
          "height": 34
        },
        "outputId": "1fc54175-edc9-47e1-fdbe-14f3f75030e4"
      },
      "source": [
        "y_series = df_timeseries['y']\n",
        "mu = y_series.mean()\n",
        "gamma0 = y_series.var(ddof=1) \n",
        "print('平均 = {:f}, 分散 = {:f}'.format(mu,gamma0))"
      ],
      "execution_count": 6,
      "outputs": [
        {
          "output_type": "stream",
          "text": [
            "平均 = 44.105164, 分散 = 0.757792\n"
          ],
          "name": "stdout"
        }
      ]
    },
    {
      "cell_type": "markdown",
      "metadata": {
        "id": "iL1eJIUNv8ym",
        "colab_type": "text"
      },
      "source": [
        "## 自己共分散関数 $\\gamma_k$ と自己相関関数 $\\rho_k$ の推定\n",
        "\n",
        "y_series は pandas.Series のオブジェクトとなっている。\n",
        "pandas.Seriesオブジェクトは以下のメソッドを備える。\n",
        "\n",
        "- cov() は共分散の不偏推定を計算\n",
        "- corr() は相関の不偏推定を計算\n",
        "\n",
        "※不偏推定から最尤推定への切替はできない\n"
      ]
    },
    {
      "cell_type": "code",
      "metadata": {
        "tags": [],
        "id": "BtkGAQ6Bv8ym",
        "colab_type": "code",
        "colab": {
          "base_uri": "https://localhost:8080/",
          "height": 714
        },
        "outputId": "edc39ad6-d527-4f60-8240-1b07a6f428bc"
      },
      "source": [
        "nlags = 40\n",
        "for lag in range(nlags+1):\n",
        "    gammak = y_series.cov(y_series.shift(lag))\n",
        "    rhok = y_series.corr(y_series.shift(lag))\n",
        "    print('γ{0:d} = {1:f}, ρ{0:d} = {2:f}'.format(lag,gammak,rhok))"
      ],
      "execution_count": 7,
      "outputs": [
        {
          "output_type": "stream",
          "text": [
            "γ0 = 0.757792, ρ0 = 1.000000\n",
            "γ1 = 0.750077, ρ1 = 0.993103\n",
            "γ2 = 0.735674, ρ2 = 0.978063\n",
            "γ3 = 0.717801, ρ3 = 0.958768\n",
            "γ4 = 0.699719, ρ4 = 0.938108\n",
            "γ5 = 0.683130, ρ5 = 0.918007\n",
            "γ6 = 0.669395, ρ6 = 0.900689\n",
            "γ7 = 0.659552, ρ7 = 0.887028\n",
            "γ8 = 0.652433, ρ8 = 0.876847\n",
            "γ9 = 0.648186, ρ9 = 0.867686\n",
            "γ10 = 0.643203, ρ10 = 0.857831\n",
            "γ11 = 0.635437, ρ11 = 0.844638\n",
            "γ12 = 0.621308, ρ12 = 0.826675\n",
            "γ13 = 0.603912, ρ13 = 0.804875\n",
            "γ14 = 0.584184, ρ14 = 0.779845\n",
            "γ15 = 0.563639, ρ15 = 0.753456\n",
            "γ16 = 0.543911, ρ16 = 0.727581\n",
            "γ17 = 0.526518, ρ17 = 0.703989\n",
            "γ18 = 0.511753, ρ18 = 0.684224\n",
            "γ19 = 0.500739, ρ19 = 0.669340\n",
            "γ20 = 0.492360, ρ20 = 0.658059\n",
            "γ21 = 0.485704, ρ21 = 0.649325\n",
            "γ22 = 0.478002, ρ22 = 0.640257\n",
            "γ23 = 0.468750, ρ23 = 0.629784\n",
            "γ24 = 0.455967, ρ24 = 0.615249\n",
            "γ25 = 0.438855, ρ25 = 0.594419\n",
            "γ26 = 0.419606, ρ26 = 0.570266\n",
            "γ27 = 0.399747, ρ27 = 0.545038\n",
            "γ28 = 0.380728, ρ28 = 0.520611\n",
            "γ29 = 0.363979, ρ29 = 0.498810\n",
            "γ30 = 0.350681, ρ30 = 0.481440\n",
            "γ31 = 0.341232, ρ31 = 0.468903\n",
            "γ32 = 0.335291, ρ32 = 0.461136\n",
            "γ33 = 0.331239, ρ33 = 0.455762\n",
            "γ34 = 0.327262, ρ34 = 0.450526\n",
            "γ35 = 0.322236, ρ35 = 0.443531\n",
            "γ36 = 0.315077, ρ36 = 0.433489\n",
            "γ37 = 0.305219, ρ37 = 0.419619\n",
            "γ38 = 0.293018, ρ38 = 0.402502\n",
            "γ39 = 0.279436, ρ39 = 0.383479\n",
            "γ40 = 0.266003, ρ40 = 0.364763\n"
          ],
          "name": "stdout"
        }
      ]
    },
    {
      "cell_type": "markdown",
      "metadata": {
        "id": "PQw8h99_v8yp",
        "colab_type": "text"
      },
      "source": [
        "## 時系列解析ライブラリ\n",
        "\n",
        "時系列解析には，statsmodelsライブラリも利用できる。\n",
        "\n",
        "- acovf() は自己共分散関数を計算\n",
        "- acf() は自己相関関数を計算\n",
        "\n",
        "各メソッドのオプション unbiased = True で不偏推定，Falseで最尤推定となる．\n",
        "\n"
      ]
    },
    {
      "cell_type": "code",
      "metadata": {
        "tags": [],
        "id": "vRFimHRjv8yq",
        "colab_type": "code",
        "colab": {
          "base_uri": "https://localhost:8080/",
          "height": 1000
        },
        "outputId": "d9199206-2dd7-4fad-f4f3-d8f53cb9798b"
      },
      "source": [
        "import statsmodels.api as sm\n",
        "from statsmodels.tsa import stattools\n",
        "\n",
        "#欠損値がある場合は nan が含まれる．\n",
        "#欠損個所を補間したデータを使わない場合は以下の行をコメントアウトする\n",
        "y_series = df_timeseries['y_fillna']\n",
        "\n",
        "print('自己共分散関数')\n",
        "y_acovf = stattools.acovf(y_series,unbiased=True)\n",
        "display(y_acovf)\n",
        "print('自己相関関数')\n",
        "y_acf = stattools.acf(y_series,unbiased=True)\n",
        "display(y_acf)\n"
      ],
      "execution_count": 8,
      "outputs": [
        {
          "output_type": "stream",
          "text": [
            "自己共分散関数\n"
          ],
          "name": "stdout"
        },
        {
          "output_type": "display_data",
          "data": {
            "text/plain": [
              "array([ 7.54738558e-01,  7.47141611e-01,  7.33671959e-01,  7.17429185e-01,\n",
              "        7.00656979e-01,  6.84791866e-01,  6.71509526e-01,  6.61381189e-01,\n",
              "        6.53762510e-01,  6.47217578e-01,  6.40257550e-01,  6.31132725e-01,\n",
              "        6.17935420e-01,  6.01850024e-01,  5.83299308e-01,  5.63603728e-01,\n",
              "        5.44351941e-01,  5.27160826e-01,  5.12650340e-01,  5.01670295e-01,\n",
              "        4.93883093e-01,  4.87765978e-01,  4.80687330e-01,  4.72139778e-01,\n",
              "        4.60290568e-01,  4.44284176e-01,  4.26355634e-01,  4.07933609e-01,\n",
              "        3.90529363e-01,  3.75442863e-01,  3.63783426e-01,  3.55645570e-01,\n",
              "        3.50684018e-01,  3.47524288e-01,  3.44385176e-01,  3.39941278e-01,\n",
              "        3.33218100e-01,  3.23958076e-01,  3.12558387e-01,  2.99849414e-01,\n",
              "        2.87131432e-01,  2.75749669e-01,  2.67177132e-01,  2.61413513e-01,\n",
              "        2.57906343e-01,  2.55605654e-01,  2.53428534e-01,  2.50480307e-01,\n",
              "        2.44961925e-01,  2.35779482e-01,  2.24581342e-01,  2.12402182e-01,\n",
              "        2.01081410e-01,  1.91780302e-01,  1.85091597e-01,  1.81631574e-01,\n",
              "        1.81269680e-01,  1.82652156e-01,  1.84183072e-01,  1.84636342e-01,\n",
              "        1.82974472e-01,  1.79463856e-01,  1.73788395e-01,  1.67035869e-01,\n",
              "        1.60138971e-01,  1.54515513e-01,  1.51721788e-01,  1.51553325e-01,\n",
              "        1.53025906e-01,  1.55428045e-01,  1.57825716e-01,  1.58847110e-01,\n",
              "        1.57310067e-01,  1.53618204e-01,  1.48185420e-01,  1.41905232e-01,\n",
              "        1.35955099e-01,  1.31212197e-01,  1.27825297e-01,  1.26487254e-01,\n",
              "        1.26669777e-01,  1.27806519e-01,  1.27934695e-01,  1.26501339e-01,\n",
              "        1.22784902e-01,  1.16114336e-01,  1.06910536e-01,  9.56946380e-02,\n",
              "        8.34118030e-02,  7.14006312e-02,  6.11087369e-02,  5.28929392e-02,\n",
              "        4.61212077e-02,  4.10381761e-02,  3.68999754e-02,  3.18575564e-02,\n",
              "        2.46872941e-02,  1.51909291e-02,  3.56843845e-03, -9.45403185e-03,\n",
              "       -2.28798141e-02, -3.57845724e-02, -4.79454080e-02, -5.88431422e-02,\n",
              "       -6.84674894e-02, -7.74892357e-02, -8.71393338e-02, -9.77169782e-02,\n",
              "       -1.09207293e-01, -1.21605125e-01, -1.34757789e-01, -1.47929197e-01,\n",
              "       -1.60938930e-01, -1.72722215e-01, -1.82259935e-01, -1.89738225e-01,\n",
              "       -1.95526179e-01, -1.99693925e-01, -2.03142310e-01, -2.06923909e-01,\n",
              "       -2.11801581e-01, -2.18571451e-01, -2.26481950e-01, -2.34932923e-01,\n",
              "       -2.42765596e-01, -2.49146000e-01, -2.53728263e-01, -2.56605919e-01,\n",
              "       -2.57570256e-01, -2.57212399e-01, -2.56474732e-01, -2.55731299e-01,\n",
              "       -2.55807646e-01, -2.57227645e-01, -2.59415117e-01, -2.61652543e-01,\n",
              "       -2.64175407e-01, -2.65626554e-01, -2.65529634e-01, -2.63209553e-01,\n",
              "       -2.58915069e-01, -2.52415051e-01, -2.44981525e-01, -2.37451610e-01,\n",
              "       -2.31259136e-01, -2.27805183e-01, -2.25710062e-01, -2.24384238e-01,\n",
              "       -2.23433983e-01, -2.21902489e-01, -2.18166276e-01, -2.12491020e-01,\n",
              "       -2.04405843e-01, -1.95272759e-01, -1.86145788e-01, -1.77665651e-01,\n",
              "       -1.70872227e-01, -1.65004805e-01, -1.60189237e-01, -1.55632592e-01,\n",
              "       -1.50504375e-01, -1.44051496e-01, -1.35965028e-01, -1.26257713e-01,\n",
              "       -1.15801788e-01, -1.05895237e-01, -9.71508069e-02, -8.96403607e-02,\n",
              "       -8.44993458e-02, -8.32353053e-02, -8.43233730e-02, -8.75639685e-02,\n",
              "       -9.13509252e-02, -9.48485207e-02, -9.74443808e-02, -9.86721229e-02,\n",
              "       -9.89250067e-02, -9.85038392e-02, -9.81758264e-02, -9.82939148e-02,\n",
              "       -9.97181123e-02, -1.03154253e-01, -1.08870982e-01, -1.16024882e-01,\n",
              "       -1.23564318e-01, -1.31313206e-01, -1.38310228e-01, -1.44233228e-01,\n",
              "       -1.48883958e-01, -1.52317463e-01, -1.55322223e-01, -1.58855422e-01,\n",
              "       -1.64182459e-01, -1.72223636e-01, -1.81811307e-01, -1.91198324e-01,\n",
              "       -1.99558120e-01, -2.05908395e-01, -2.10314226e-01, -2.12377622e-01,\n",
              "       -2.13011179e-01, -2.13060469e-01, -2.13651200e-01, -2.15698641e-01,\n",
              "       -2.19762809e-01, -2.25625345e-01, -2.33291410e-01, -2.42016278e-01,\n",
              "       -2.50607544e-01, -2.58519971e-01, -2.64434515e-01, -2.68486737e-01,\n",
              "       -2.70910452e-01, -2.72218836e-01, -2.73447229e-01, -2.75432363e-01,\n",
              "       -2.79089971e-01, -2.85092119e-01, -2.92413622e-01, -3.00243856e-01,\n",
              "       -3.07083408e-01, -3.12216030e-01, -3.15532850e-01, -3.16957626e-01,\n",
              "       -3.16937250e-01, -3.15781182e-01, -3.14460494e-01, -3.13934975e-01,\n",
              "       -3.14351271e-01, -3.15561996e-01, -3.19203539e-01, -3.23359732e-01,\n",
              "       -3.27248693e-01, -3.30841872e-01, -3.32695544e-01, -3.32594765e-01,\n",
              "       -3.30369211e-01, -3.26990616e-01, -3.23289199e-01, -3.20542285e-01,\n",
              "       -3.20289256e-01, -3.22480636e-01, -3.26476407e-01, -3.31001563e-01,\n",
              "       -3.36433015e-01, -3.40057570e-01, -3.40708826e-01, -3.38871547e-01,\n",
              "       -3.35649083e-01, -3.32156894e-01, -3.30007917e-01, -3.30264021e-01,\n",
              "       -3.32945065e-01, -3.38135292e-01, -3.45554019e-01, -3.54174779e-01,\n",
              "       -3.62621211e-01, -3.69426990e-01, -3.72962750e-01, -3.73242949e-01,\n",
              "       -3.71253508e-01, -3.68478172e-01, -3.66402617e-01, -3.66233018e-01,\n",
              "       -3.69068681e-01, -3.75049948e-01, -3.82858567e-01, -3.91561512e-01,\n",
              "       -4.00438107e-01, -4.08750001e-01, -4.15721761e-01, -4.21959108e-01,\n",
              "       -4.27087607e-01, -4.31916270e-01, -4.37379090e-01, -4.44774155e-01,\n",
              "       -4.54091275e-01, -4.65008348e-01, -4.76899451e-01, -4.89149136e-01,\n",
              "       -5.01213954e-01, -5.11841056e-01, -5.19986306e-01, -5.25911626e-01,\n",
              "       -5.29839654e-01, -5.31522330e-01, -5.33320407e-01, -5.36827764e-01,\n",
              "       -5.43338919e-01, -5.51796225e-01, -5.60848529e-01, -5.70455676e-01,\n",
              "       -5.79252803e-01, -5.86106348e-01, -5.89145792e-01, -5.88588428e-01,\n",
              "       -5.84419044e-01, -5.77849691e-01, -5.70913559e-01, -5.63695833e-01,\n",
              "       -5.58368667e-01, -5.54531731e-01, -5.52487835e-01, -5.51455326e-01,\n",
              "       -5.50478303e-01, -5.47434958e-01, -5.41726131e-01, -5.33337152e-01,\n",
              "       -5.22697133e-01, -5.10814545e-01, -4.98347572e-01, -4.87612031e-01,\n",
              "       -4.80107361e-01, -4.75334099e-01, -4.71425659e-01, -4.68115978e-01,\n",
              "       -4.64158156e-01, -4.58974470e-01, -4.50425499e-01, -4.38910930e-01,\n",
              "       -4.23712420e-01, -4.06978822e-01, -3.89986921e-01, -3.74209277e-01,\n",
              "       -3.61055271e-01, -3.50431880e-01, -3.42493368e-01, -3.36561122e-01,\n",
              "       -3.31284522e-01, -3.24631816e-01, -3.14852333e-01, -3.01856848e-01,\n",
              "       -2.86938648e-01, -2.71108839e-01, -2.55661583e-01, -2.42328939e-01,\n",
              "       -2.32919676e-01, -2.27398372e-01, -2.24725277e-01, -2.23486267e-01,\n",
              "       -2.22642686e-01, -2.19636518e-01, -2.12133316e-01, -2.00038690e-01,\n",
              "       -1.84633992e-01, -1.68487864e-01, -1.52512753e-01, -1.38318861e-01,\n",
              "       -1.27654735e-01, -1.20918632e-01, -1.18370261e-01, -1.19085242e-01,\n",
              "       -1.20890244e-01, -1.20525939e-01, -1.17378633e-01, -1.11845939e-01,\n",
              "       -1.03640392e-01, -9.27049159e-02, -7.95517196e-02, -6.80923498e-02,\n",
              "       -5.83248504e-02, -5.16917988e-02, -4.81776013e-02, -4.40886032e-02,\n",
              "       -3.74188494e-02, -2.89533624e-02, -1.67561026e-02,  4.82034888e-04,\n",
              "        2.14315349e-02,  4.35439774e-02,  6.54961656e-02,  8.52622849e-02,\n",
              "        1.01904789e-01,  1.15405837e-01,  1.24644654e-01,  1.31202706e-01,\n",
              "        1.36706912e-01,  1.41958708e-01,  1.51048060e-01,  1.62624998e-01,\n",
              "        1.78159392e-01,  1.96605163e-01,  2.15510345e-01,  2.32314369e-01,\n",
              "        2.45048519e-01,  2.51219770e-01,  2.52259785e-01,  2.50735370e-01,\n",
              "        2.46531128e-01,  2.44686577e-01,  2.47504934e-01,  2.57827237e-01,\n",
              "        2.74536423e-01,  2.96016126e-01,  3.17070016e-01,  3.35307880e-01,\n",
              "        3.49355071e-01,  3.58807605e-01,  3.63155465e-01,  3.64419939e-01,\n",
              "        3.65584154e-01,  3.70897251e-01,  3.83826498e-01,  4.02266576e-01,\n",
              "        4.24226188e-01,  4.49103359e-01,  4.73618423e-01,  4.93608031e-01,\n",
              "        5.05800630e-01,  5.10502755e-01,  5.10433584e-01,  5.07526550e-01,\n",
              "        5.04689294e-01,  5.04704153e-01,  5.11307230e-01,  5.24687286e-01,\n",
              "        5.45428524e-01,  5.69072893e-01,  5.89617087e-01,  6.05982185e-01,\n",
              "        6.15806084e-01,  6.18630940e-01,  6.15576929e-01,  6.09619886e-01,\n",
              "        6.02848664e-01,  6.01522730e-01,  6.08486613e-01,  6.23253007e-01,\n",
              "        6.42881270e-01,  6.65875102e-01,  6.90687841e-01,  7.11684337e-01,\n",
              "        7.21098482e-01,  7.21864157e-01,  7.16253244e-01,  7.04168422e-01,\n",
              "        6.90669216e-01,  6.80461134e-01,  6.77137569e-01,  6.80310666e-01,\n",
              "        6.91631947e-01,  7.06724116e-01,  7.20931573e-01,  7.32508435e-01,\n",
              "        7.39575008e-01,  7.40661963e-01,  7.35635961e-01,  7.27570370e-01,\n",
              "        7.16661144e-01,  7.10302076e-01,  7.10510800e-01,  7.18453560e-01,\n",
              "        7.31064739e-01,  7.46523307e-01,  7.63522678e-01,  7.71839438e-01,\n",
              "        7.64414621e-01,  7.49826687e-01,  7.30764863e-01,  7.07106313e-01,\n",
              "        6.83014788e-01,  6.63614783e-01,  6.54482356e-01,  6.53276195e-01,\n",
              "        6.61829792e-01,  6.77658326e-01,  6.92686284e-01,  7.07652359e-01,\n",
              "        7.16557830e-01,  7.21138956e-01,  7.20740473e-01,  7.18583941e-01,\n",
              "        7.12362128e-01,  7.11890646e-01,  7.17442588e-01,  7.32237504e-01,\n",
              "        7.51146693e-01,  7.72442398e-01,  7.95129137e-01,  8.07251211e-01,\n",
              "        8.01893034e-01,  7.87828157e-01,  7.66399886e-01,  7.40730827e-01,\n",
              "        7.16550692e-01,  6.95238355e-01,  6.88345878e-01,  6.89535313e-01,\n",
              "        7.03512972e-01,  7.24909709e-01,  7.43247641e-01,  7.50681477e-01,\n",
              "        7.48377468e-01,  7.38400827e-01,  7.23391572e-01,  7.06219726e-01,\n",
              "        6.83765072e-01,  6.70378577e-01,  6.64478428e-01,  6.65845293e-01,\n",
              "        6.73648728e-01,  6.83374907e-01,  6.89270558e-01,  6.77752682e-01,\n",
              "        6.36098774e-01,  5.89605387e-01,  5.48796917e-01,  5.35794601e-01,\n",
              "        5.19995278e-01,  4.86944280e-01,  4.65194057e-01,  4.85242395e-01,\n",
              "        5.30514092e-01,  5.93526798e-01,  6.50546758e-01,  6.93556556e-01,\n",
              "        7.15457630e-01,  7.42026660e-01,  7.61857162e-01,  7.80222187e-01,\n",
              "        8.12371716e-01,  8.94542878e-01,  1.00497317e+00,  1.14212999e+00,\n",
              "        1.29517580e+00,  1.44867093e+00,  1.52063260e+00])"
            ]
          },
          "metadata": {
            "tags": []
          }
        },
        {
          "output_type": "stream",
          "text": [
            "自己相関関数\n"
          ],
          "name": "stdout"
        },
        {
          "output_type": "display_data",
          "data": {
            "text/plain": [
              "array([1.        , 0.98993433, 0.97208755, 0.95056649, 0.92834396,\n",
              "       0.90732328, 0.88972468, 0.87630502, 0.86621056, 0.85753877,\n",
              "       0.848317  , 0.83622695, 0.81874102, 0.79742848, 0.77284949,\n",
              "       0.74675359, 0.7212457 , 0.69846813, 0.67924228, 0.66469414,\n",
              "       0.65437639, 0.64627144, 0.6368925 , 0.62556732, 0.60986757,\n",
              "       0.5886597 , 0.56490506, 0.54049658, 0.51743661, 0.49744757,\n",
              "       0.48199926, 0.47121691, 0.46464304, 0.46045652, 0.45629731,\n",
              "       0.45040932, 0.44150136, 0.42923218, 0.41412802, 0.39728912,\n",
              "       0.38043827])"
            ]
          },
          "metadata": {
            "tags": []
          }
        }
      ]
    },
    {
      "cell_type": "markdown",
      "metadata": {
        "id": "HUEbfge8v8yy",
        "colab_type": "text"
      },
      "source": [
        "## 原系列のコレログラムの表示\n",
        "\n",
        "自己相関のグラフをコレログラムとよぶ。コレログラムは次のコマンドで表示できる。"
      ]
    },
    {
      "cell_type": "code",
      "metadata": {
        "id": "MoEWzcYFv8yz",
        "colab_type": "code",
        "colab": {
          "base_uri": "https://localhost:8080/",
          "height": 284
        },
        "outputId": "af93201c-df00-4828-a1c1-2cab31b79c28"
      },
      "source": [
        "fig = sm.graphics.tsa.plot_acf(y_series,lags=nlags)"
      ],
      "execution_count": 9,
      "outputs": [
        {
          "output_type": "display_data",
          "data": {
            "image/png": "[encoded data removed]",
            "text/plain": [
              "<Figure size 432x288 with 1 Axes>"
            ]
          },
          "metadata": {
            "tags": [],
            "needs_background": "light"
          }
        }
      ]
    },
    {
      "cell_type": "markdown",
      "metadata": {
        "id": "AGeQyJeov8y5",
        "colab_type": "text"
      },
      "source": [
        "## 階差系列の分析\n",
        "\n",
        "ひとつ前の値との差分をとった系列を階差系列とよぶ。\n",
        "\n",
        "$\\Delta y_n = y_{n} - y_{n-1}$\n"
      ]
    },
    {
      "cell_type": "code",
      "metadata": {
        "id": "Mm7L1eviv8y6",
        "colab_type": "code",
        "colab": {
          "base_uri": "https://localhost:8080/",
          "height": 728
        },
        "outputId": "13901593-2944-4133-e71e-87783f19e3ff"
      },
      "source": [
        "# 欠損データの補間を行わない場合\n",
        "#df_timeseries['y_diff'] = df_timeseries['y'].diff()\n",
        "# 欠損データを補間を行う場合\n",
        "df_timeseries['y_diff'] = df_timeseries['y_fillna'].diff()\n",
        "display(df_timeseries)\n",
        "df_timeseries.plot(x='t', y='y_diff', figsize=(16,4), title='{}の階差系列'.format(strtitle))\n",
        "\n"
      ],
      "execution_count": 10,
      "outputs": [
        {
          "output_type": "display_data",
          "data": {
            "text/html": [
              "<div>\n",
              "<style scoped>\n",
              "    .dataframe tbody tr th:only-of-type {\n",
              "        vertical-align: middle;\n",
              "    }\n",
              "\n",
              "    .dataframe tbody tr th {\n",
              "        vertical-align: top;\n",
              "    }\n",
              "\n",
              "    .dataframe thead th {\n",
              "        text-align: right;\n",
              "    }\n",
              "</style>\n",
              "<table border=\"1\" class=\"dataframe\">\n",
              "  <thead>\n",
              "    <tr style=\"text-align: right;\">\n",
              "      <th></th>\n",
              "      <th>t</th>\n",
              "      <th>y</th>\n",
              "      <th>y_fillna</th>\n",
              "      <th>y_diff</th>\n",
              "    </tr>\n",
              "  </thead>\n",
              "  <tbody>\n",
              "    <tr>\n",
              "      <th>0</th>\n",
              "      <td>2020-07-01 01:00:00+09:00</td>\n",
              "      <td>42.29</td>\n",
              "      <td>42.29</td>\n",
              "      <td>NaN</td>\n",
              "    </tr>\n",
              "    <tr>\n",
              "      <th>1</th>\n",
              "      <td>2020-07-01 02:00:00+09:00</td>\n",
              "      <td>42.31</td>\n",
              "      <td>42.31</td>\n",
              "      <td>0.02</td>\n",
              "    </tr>\n",
              "    <tr>\n",
              "      <th>2</th>\n",
              "      <td>2020-07-01 03:00:00+09:00</td>\n",
              "      <td>42.32</td>\n",
              "      <td>42.32</td>\n",
              "      <td>0.01</td>\n",
              "    </tr>\n",
              "    <tr>\n",
              "      <th>3</th>\n",
              "      <td>2020-07-01 04:00:00+09:00</td>\n",
              "      <td>42.43</td>\n",
              "      <td>42.43</td>\n",
              "      <td>0.11</td>\n",
              "    </tr>\n",
              "    <tr>\n",
              "      <th>4</th>\n",
              "      <td>2020-07-01 05:00:00+09:00</td>\n",
              "      <td>42.52</td>\n",
              "      <td>42.52</td>\n",
              "      <td>0.09</td>\n",
              "    </tr>\n",
              "    <tr>\n",
              "      <th>...</th>\n",
              "      <td>...</td>\n",
              "      <td>...</td>\n",
              "      <td>...</td>\n",
              "      <td>...</td>\n",
              "    </tr>\n",
              "    <tr>\n",
              "      <th>522</th>\n",
              "      <td>2020-07-22 19:00:00+09:00</td>\n",
              "      <td>43.76</td>\n",
              "      <td>43.76</td>\n",
              "      <td>0.03</td>\n",
              "    </tr>\n",
              "    <tr>\n",
              "      <th>523</th>\n",
              "      <td>2020-07-22 20:00:00+09:00</td>\n",
              "      <td>43.67</td>\n",
              "      <td>43.67</td>\n",
              "      <td>-0.09</td>\n",
              "    </tr>\n",
              "    <tr>\n",
              "      <th>524</th>\n",
              "      <td>2020-07-22 21:00:00+09:00</td>\n",
              "      <td>43.55</td>\n",
              "      <td>43.55</td>\n",
              "      <td>-0.12</td>\n",
              "    </tr>\n",
              "    <tr>\n",
              "      <th>525</th>\n",
              "      <td>2020-07-22 22:00:00+09:00</td>\n",
              "      <td>43.34</td>\n",
              "      <td>43.34</td>\n",
              "      <td>-0.21</td>\n",
              "    </tr>\n",
              "    <tr>\n",
              "      <th>526</th>\n",
              "      <td>2020-07-22 23:00:00+09:00</td>\n",
              "      <td>43.27</td>\n",
              "      <td>43.27</td>\n",
              "      <td>-0.07</td>\n",
              "    </tr>\n",
              "  </tbody>\n",
              "</table>\n",
              "<p>527 rows × 4 columns</p>\n",
              "</div>"
            ],
            "text/plain": [
              "                            t      y  y_fillna  y_diff\n",
              "0   2020-07-01 01:00:00+09:00  42.29     42.29     NaN\n",
              "1   2020-07-01 02:00:00+09:00  42.31     42.31    0.02\n",
              "2   2020-07-01 03:00:00+09:00  42.32     42.32    0.01\n",
              "3   2020-07-01 04:00:00+09:00  42.43     42.43    0.11\n",
              "4   2020-07-01 05:00:00+09:00  42.52     42.52    0.09\n",
              "..                        ...    ...       ...     ...\n",
              "522 2020-07-22 19:00:00+09:00  43.76     43.76    0.03\n",
              "523 2020-07-22 20:00:00+09:00  43.67     43.67   -0.09\n",
              "524 2020-07-22 21:00:00+09:00  43.55     43.55   -0.12\n",
              "525 2020-07-22 22:00:00+09:00  43.34     43.34   -0.21\n",
              "526 2020-07-22 23:00:00+09:00  43.27     43.27   -0.07\n",
              "\n",
              "[527 rows x 4 columns]"
            ]
          },
          "metadata": {
            "tags": []
          }
        },
        {
          "output_type": "execute_result",
          "data": {
            "text/plain": [
              "<matplotlib.axes._subplots.AxesSubplot at 0x7f4c6d2a5c50>"
            ]
          },
          "metadata": {
            "tags": []
          },
          "execution_count": 10
        },
        {
          "output_type": "display_data",
          "data": {
            "image/png": "[encoded data removed]",
            "text/plain": [
              "<Figure size 1152x288 with 1 Axes>"
            ]
          },
          "metadata": {
            "tags": [],
            "needs_background": "light"
          }
        }
      ]
    },
    {
      "cell_type": "markdown",
      "metadata": {
        "id": "uT9XTjvGv8y9",
        "colab_type": "text"
      },
      "source": [
        "ヒストグラムをプロット\n"
      ]
    },
    {
      "cell_type": "code",
      "metadata": {
        "id": "c4o5hoywv8y-",
        "colab_type": "code",
        "colab": {
          "base_uri": "https://localhost:8080/",
          "height": 302
        },
        "outputId": "2d927c4d-e500-46e4-f7e2-3df71c93a3c2"
      },
      "source": [
        "ax = df_timeseries.hist('y_diff')\n",
        "ax[0][0].set_title(strtitle+'（階差）')"
      ],
      "execution_count": 13,
      "outputs": [
        {
          "output_type": "execute_result",
          "data": {
            "text/plain": [
              "Text(0.5, 1.0, '水位グラフ[小千谷]（階差）')"
            ]
          },
          "metadata": {
            "tags": []
          },
          "execution_count": 13
        },
        {
          "output_type": "display_data",
          "data": {
            "image/png": "[encoded data removed]",
            "text/plain": [
              "<Figure size 432x288 with 1 Axes>"
            ]
          },
          "metadata": {
            "tags": [],
            "needs_background": "light"
          }
        }
      ]
    },
    {
      "cell_type": "markdown",
      "metadata": {
        "id": "HJQ-SmcDv8zA",
        "colab_type": "text"
      },
      "source": [
        "原系列 $y_n$ と階差系列 $\\Delta y_n$ のCSVへの出力"
      ]
    },
    {
      "cell_type": "code",
      "metadata": {
        "id": "HcG160WMv8zB",
        "colab_type": "code",
        "colab": {}
      },
      "source": [
        "#df_timeseries.to_csv('./data/sample02_03.csv',index=False)"
      ],
      "execution_count": 12,
      "outputs": []
    }
  ]
}