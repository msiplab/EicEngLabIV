{
  "nbformat": 4,
  "nbformat_minor": 0,
  "metadata": {
    "language_info": {
      "codemirror_mode": {
        "name": "ipython",
        "version": 3
      },
      "file_extension": ".py",
      "mimetype": "text/x-python",
      "name": "python",
      "nbconvert_exporter": "python",
      "pygments_lexer": "ipython3",
      "version": "3.8.0-final"
    },
    "orig_nbformat": 2,
    "kernelspec": {
      "name": "python_defaultSpec_1595407570059",
      "display_name": "Python 3.8.0 64-bit"
    },
    "colab": {
      "name": "example02_03.ipynb",
      "provenance": [],
      "include_colab_link": true
    },
    "accelerator": "GPU"
  },
  "cells": [
    {
      "cell_type": "markdown",
      "metadata": {
        "id": "view-in-github",
        "colab_type": "text"
      },
      "source": [
        "<a href=\"https://colab.research.google.com/github/msiplab/EicEngLabIV/blob/develop/example02_03.ipynb\" target=\"_parent\"><img src=\"https://colab.research.google.com/assets/colab-badge.svg\" alt=\"Open In Colab\"/></a>"
      ]
    },
    {
      "cell_type": "markdown",
      "metadata": {
        "id": "Dh2sunjqv8yK",
        "colab_type": "text"
      },
      "source": [
        "# 実験Ⅳ－２　時系列データの分析\n",
        "\n",
        "1. サンプルデータの読み込み\n",
        "1. 平均 $\\mu$ と分散 $\\gamma_0$ の推定\n",
        "1. 自己共分散関数 $\\gamma_k$ と自己相関関数 $\\rho_k$ の推定\n",
        "\n",
        "新潟大学工学部工学科　電子情報通信プログラム \n",
        "\n",
        "## 準備"
      ]
    },
    {
      "cell_type": "code",
      "metadata": {
        "tags": [],
        "id": "2DoWeE-rv8yM",
        "colab_type": "code",
        "colab": {
          "base_uri": "https://localhost:8080/",
          "height": 197
        },
        "outputId": "30ab53e9-331c-4838-f73c-dee55dc4db1a"
      },
      "source": [
        "!pip install bs4\n",
        "!pip install japanize-matplotlib\n",
        "%matplotlib inline\n",
        "\n",
        "import warnings\n",
        "warnings.simplefilter('ignore') #警告を無視（コメントアウト推奨）\n",
        "\n",
        "from urllib import request\n",
        "from bs4 import BeautifulSoup\n",
        "\n",
        "import numpy as np\n",
        "import pandas as pd\n",
        "import pandas.tseries.offsets as offsets\n",
        "import matplotlib.pyplot as plt\n",
        "import seaborn as sns\n",
        "import japanize_matplotlib #日本語化matplotlib\n",
        "sns.set(font=\"IPAexGothic\") #日本語フォント設定"
      ],
      "execution_count": 1,
      "outputs": [
        {
          "output_type": "stream",
          "text": [
            "Requirement already satisfied: bs4 in /usr/local/lib/python3.6/dist-packages (0.0.1)\n",
            "Requirement already satisfied: beautifulsoup4 in /usr/local/lib/python3.6/dist-packages (from bs4) (4.6.3)\n",
            "Requirement already satisfied: japanize-matplotlib in /usr/local/lib/python3.6/dist-packages (1.1.2)\n",
            "Requirement already satisfied: matplotlib in /usr/local/lib/python3.6/dist-packages (from japanize-matplotlib) (3.2.2)\n",
            "Requirement already satisfied: python-dateutil>=2.1 in /usr/local/lib/python3.6/dist-packages (from matplotlib->japanize-matplotlib) (2.8.1)\n",
            "Requirement already satisfied: pyparsing!=2.0.4,!=2.1.2,!=2.1.6,>=2.0.1 in /usr/local/lib/python3.6/dist-packages (from matplotlib->japanize-matplotlib) (2.4.7)\n",
            "Requirement already satisfied: kiwisolver>=1.0.1 in /usr/local/lib/python3.6/dist-packages (from matplotlib->japanize-matplotlib) (1.2.0)\n",
            "Requirement already satisfied: numpy>=1.11 in /usr/local/lib/python3.6/dist-packages (from matplotlib->japanize-matplotlib) (1.18.5)\n",
            "Requirement already satisfied: cycler>=0.10 in /usr/local/lib/python3.6/dist-packages (from matplotlib->japanize-matplotlib) (0.10.0)\n",
            "Requirement already satisfied: six>=1.5 in /usr/local/lib/python3.6/dist-packages (from python-dateutil>=2.1->matplotlib->japanize-matplotlib) (1.12.0)\n"
          ],
          "name": "stdout"
        }
      ]
    },
    {
      "cell_type": "markdown",
      "metadata": {
        "id": "In8NMH4Ev8yS",
        "colab_type": "text"
      },
      "source": [
        "## Webからの水位データの読み込み\n",
        "\n",
        "新潟県河川防災情報システムより\n",
        "http://doboku-bousai.pref.niigata.jp/kasen/index.html\n",
        "\n",
        "以下のPythonライブラリを利用\n",
        "- urllib\n",
        "- bs4"
      ]
    },
    {
      "cell_type": "code",
      "metadata": {
        "tags": [],
        "id": "LnrleeLe7Nsn",
        "colab_type": "code",
        "colab": {}
      },
      "source": [
        "# 水位観測所IDの設定\n",
        "loc = '260' # 小千谷市 ライブ映像 http://www.hrr.mlit.go.jp/shinano/live/map1.html# （11番目付近）\n",
        "\n",
        "# 解析期間の設定\n",
        "dts = '2020070100' # 開始日時\n",
        "dte = '2020071500' # 終了日時\n",
        "interval = 1 # hour\n",
        "\n",
        "# Webからの水位情報抽出\n",
        "dts00 = pd.to_datetime(dts+'00')\n",
        "dte00 = pd.to_datetime(dte+'00')\n",
        "td = dte00 - dts00\n",
        "durationinhours = int(td.total_seconds()/(3600))\n",
        "t = [ [] for idx in range(durationinhours) ]\n",
        "y = [ 0.0 for idx in range(durationinhours) ]\n",
        "idt = dts00\n",
        "idx = 0\n",
        "while idt < dte00:\n",
        "    # 水位抽出日時の設定\n",
        "    strdt = idt.strftime('%Y%m%d%H%M')\n",
        "    ts = pd.to_datetime(idt).tz_localize('Asia/Tokyo')\n",
        "\n",
        "    # URLの設定\n",
        "    url = 'http://doboku-bousai.pref.niigata.jp/kasen/servlet/bousaiweb.servletBousaiGraph?ga=4&gk=0&gn=0&gl=0&gw=0&go=0&omp=0&opn=0&spn=0&tvm=0&tsw=0&sv=3&dk=2&mp=0&no=0&fn=0&pg=6&sitept=0&unq=12062215494&nwg=0&tmg={0}&sn={1}&wsl=3&wl=1&rg=1&sy=gra_river&psn=0&=&nw=0&tm={0}&logflg=0'.format(strdt,loc)\n",
        "\n",
        "    # 指定した時刻の水位情報抽出\n",
        "    response = request.urlopen(url)\n",
        "    soup = BeautifulSoup(response)\n",
        "    response.close()\n",
        "    if idt == dts00:\n",
        "        strtitle = soup.title.text.strip()\n",
        "    #print(soup.find('td', class_='tableHeaderCast').text.strip())\n",
        "    strwaterlevel = soup.find('td', class_='tableHeaderItemCen').text.strip().replace('m','')\n",
        "    waterlevel = float(strwaterlevel.replace('---','nan'))\n",
        "\n",
        "    # リストへのデータ登録\n",
        "    t[idx] = ts\n",
        "    y[idx] = waterlevel\n",
        "\n",
        "    # 時間を更新\n",
        "    idx += 1\n",
        "    idt += offsets.Hour(interval)\n"
      ],
      "execution_count": 3,
      "outputs": []
    },
    {
      "cell_type": "markdown",
      "metadata": {
        "id": "eOsE6PESv8yW",
        "colab_type": "text"
      },
      "source": [
        "## 時系列データをpandas.DataFrameオブジェクトに変換\n",
        "\n",
        "pandas ライブラリの DataFrame オブジェクトに変換\n",
        "\n",
        "- t: 時刻\n",
        "- y: データの値\n"
      ]
    },
    {
      "cell_type": "code",
      "metadata": {
        "tags": [],
        "id": "c0QdOQItv8yX",
        "colab_type": "code",
        "colab": {
          "base_uri": "https://localhost:8080/",
          "height": 415
        },
        "outputId": "9bc9d5be-bc9c-4b40-f34f-53dab472c1ac"
      },
      "source": [
        "df_timeseries= pd.DataFrame({'t': t, 'y': y})\n",
        "display(df_timeseries)"
      ],
      "execution_count": 4,
      "outputs": [
        {
          "output_type": "display_data",
          "data": {
            "text/html": [
              "<div>\n",
              "<style scoped>\n",
              "    .dataframe tbody tr th:only-of-type {\n",
              "        vertical-align: middle;\n",
              "    }\n",
              "\n",
              "    .dataframe tbody tr th {\n",
              "        vertical-align: top;\n",
              "    }\n",
              "\n",
              "    .dataframe thead th {\n",
              "        text-align: right;\n",
              "    }\n",
              "</style>\n",
              "<table border=\"1\" class=\"dataframe\">\n",
              "  <thead>\n",
              "    <tr style=\"text-align: right;\">\n",
              "      <th></th>\n",
              "      <th>t</th>\n",
              "      <th>y</th>\n",
              "    </tr>\n",
              "  </thead>\n",
              "  <tbody>\n",
              "    <tr>\n",
              "      <th>0</th>\n",
              "      <td>2020-07-01 00:00:00+09:00</td>\n",
              "      <td>42.27</td>\n",
              "    </tr>\n",
              "    <tr>\n",
              "      <th>1</th>\n",
              "      <td>2020-07-01 01:00:00+09:00</td>\n",
              "      <td>42.29</td>\n",
              "    </tr>\n",
              "    <tr>\n",
              "      <th>2</th>\n",
              "      <td>2020-07-01 02:00:00+09:00</td>\n",
              "      <td>42.31</td>\n",
              "    </tr>\n",
              "    <tr>\n",
              "      <th>3</th>\n",
              "      <td>2020-07-01 03:00:00+09:00</td>\n",
              "      <td>42.32</td>\n",
              "    </tr>\n",
              "    <tr>\n",
              "      <th>4</th>\n",
              "      <td>2020-07-01 04:00:00+09:00</td>\n",
              "      <td>42.43</td>\n",
              "    </tr>\n",
              "    <tr>\n",
              "      <th>...</th>\n",
              "      <td>...</td>\n",
              "      <td>...</td>\n",
              "    </tr>\n",
              "    <tr>\n",
              "      <th>331</th>\n",
              "      <td>2020-07-14 19:00:00+09:00</td>\n",
              "      <td>44.25</td>\n",
              "    </tr>\n",
              "    <tr>\n",
              "      <th>332</th>\n",
              "      <td>2020-07-14 20:00:00+09:00</td>\n",
              "      <td>44.24</td>\n",
              "    </tr>\n",
              "    <tr>\n",
              "      <th>333</th>\n",
              "      <td>2020-07-14 21:00:00+09:00</td>\n",
              "      <td>44.24</td>\n",
              "    </tr>\n",
              "    <tr>\n",
              "      <th>334</th>\n",
              "      <td>2020-07-14 22:00:00+09:00</td>\n",
              "      <td>44.32</td>\n",
              "    </tr>\n",
              "    <tr>\n",
              "      <th>335</th>\n",
              "      <td>2020-07-14 23:00:00+09:00</td>\n",
              "      <td>44.30</td>\n",
              "    </tr>\n",
              "  </tbody>\n",
              "</table>\n",
              "<p>336 rows × 2 columns</p>\n",
              "</div>"
            ],
            "text/plain": [
              "                            t      y\n",
              "0   2020-07-01 00:00:00+09:00  42.27\n",
              "1   2020-07-01 01:00:00+09:00  42.29\n",
              "2   2020-07-01 02:00:00+09:00  42.31\n",
              "3   2020-07-01 03:00:00+09:00  42.32\n",
              "4   2020-07-01 04:00:00+09:00  42.43\n",
              "..                        ...    ...\n",
              "331 2020-07-14 19:00:00+09:00  44.25\n",
              "332 2020-07-14 20:00:00+09:00  44.24\n",
              "333 2020-07-14 21:00:00+09:00  44.24\n",
              "334 2020-07-14 22:00:00+09:00  44.32\n",
              "335 2020-07-14 23:00:00+09:00  44.30\n",
              "\n",
              "[336 rows x 2 columns]"
            ]
          },
          "metadata": {
            "tags": []
          }
        }
      ]
    },
    {
      "cell_type": "markdown",
      "metadata": {
        "id": "IxY6TOtJv8ya",
        "colab_type": "text"
      },
      "source": [
        "## 時系列データをプロット\n",
        "\n",
        "- y: 原系列\n",
        "- y_fillna: 欠損個所を前の値で補間\n"
      ]
    },
    {
      "cell_type": "code",
      "metadata": {
        "tags": [],
        "id": "-TOhyON4v8yb",
        "colab_type": "code",
        "colab": {
          "base_uri": "https://localhost:8080/",
          "height": 309
        },
        "outputId": "7135e134-b0f4-45a1-d65a-c576a7566e0b"
      },
      "source": [
        "df_timeseries['y_fillna'] = df_timeseries['y'].fillna(method='ffill').astype(float) \n",
        "ax = df_timeseries.plot(x='t', y={'y', 'y_fillna'}, figsize=(16,4), title=strtitle)\n"
      ],
      "execution_count": 5,
      "outputs": [
        {
          "output_type": "display_data",
          "data": {
            "image/png": "[encoded data removed]",
            "text/plain": [
              "<Figure size 1152x288 with 1 Axes>"
            ]
          },
          "metadata": {
            "tags": [],
            "needs_background": "light"
          }
        }
      ]
    },
    {
      "cell_type": "markdown",
      "metadata": {
        "id": "mGvDl_Jtv8ye",
        "colab_type": "text"
      },
      "source": [
        "ヒストグラムをプロット"
      ]
    },
    {
      "cell_type": "code",
      "metadata": {
        "tags": [],
        "id": "pUtu54KVv8ye",
        "colab_type": "code",
        "colab": {
          "base_uri": "https://localhost:8080/",
          "height": 303
        },
        "outputId": "51382c6c-4da9-4c1c-9968-96fedeb4e67d"
      },
      "source": [
        "ax = df_timeseries.hist('y')\n",
        "ax[0][0].set_title(strtitle)"
      ],
      "execution_count": 6,
      "outputs": [
        {
          "output_type": "execute_result",
          "data": {
            "text/plain": [
              "Text(0.5, 1.0, '水位グラフ[小千谷]')"
            ]
          },
          "metadata": {
            "tags": []
          },
          "execution_count": 6
        },
        {
          "output_type": "display_data",
          "data": {
            "image/png": "[encoded data removed]",
            "text/plain": [
              "<Figure size 432x288 with 1 Axes>"
            ]
          },
          "metadata": {
            "tags": [],
            "needs_background": "light"
          }
        }
      ]
    },
    {
      "cell_type": "markdown",
      "metadata": {
        "id": "lqiNC5F9v8yh",
        "colab_type": "text"
      },
      "source": [
        "## 平均 $\\mu$ と分散 $\\gamma_0$ の推定\n",
        "\n",
        "- mean(): 標本平均を計算\n",
        "- var(): 標本分散を計算\n",
        "\n",
        "pandas.DataFrame オブジェクトのvar() メソッドのオプションで \n",
        "\n",
        "- ddof = 0 とすると N で割る最尤推定\n",
        "- ddof = 1 とすると (N-1)で割る不偏推定 ※デフォルト"
      ]
    },
    {
      "cell_type": "code",
      "metadata": {
        "tags": [],
        "id": "Qh5ceP3hv8yi",
        "colab_type": "code",
        "colab": {
          "base_uri": "https://localhost:8080/",
          "height": 35
        },
        "outputId": "157e11e4-2f62-4563-f3b8-a862a2a4248d"
      },
      "source": [
        "y_series = df_timeseries['y']\n",
        "mu = y_series.mean()\n",
        "gamma0 = y_series.var(ddof=1) \n",
        "print('平均 = {:f}, 分散 = {:f}'.format(mu,gamma0))"
      ],
      "execution_count": 7,
      "outputs": [
        {
          "output_type": "stream",
          "text": [
            "平均 = 44.264756, 分散 = 0.854936\n"
          ],
          "name": "stdout"
        }
      ]
    },
    {
      "cell_type": "markdown",
      "metadata": {
        "id": "iL1eJIUNv8ym",
        "colab_type": "text"
      },
      "source": [
        "## 自己共分散関数 $\\gamma_k$ と自己相関関数 $\\rho_k$ の推定\n",
        "\n",
        "y_series は pandas.Series のオブジェクトとなっている。\n",
        "pandas.Seriesオブジェクトは以下のメソッドを備える。\n",
        "\n",
        "- cov() は共分散の不偏推定を計算\n",
        "- corr() は相関の不偏推定を計算\n",
        "\n",
        "※不偏推定から最尤推定への切替はできない\n"
      ]
    },
    {
      "cell_type": "code",
      "metadata": {
        "tags": [],
        "id": "BtkGAQ6Bv8ym",
        "colab_type": "code",
        "colab": {
          "base_uri": "https://localhost:8080/",
          "height": 755
        },
        "outputId": "8182579c-f58b-4fab-846e-ad04cccbb2c8"
      },
      "source": [
        "nlags = 40\n",
        "for lag in range(nlags+1):\n",
        "    gammak = y_series.cov(y_series.shift(lag))\n",
        "    rhok = y_series.corr(y_series.shift(lag))\n",
        "    print('γ{0:d} = {1:f}, ρ{0:d} = {2:f}'.format(lag,gammak,rhok))"
      ],
      "execution_count": 8,
      "outputs": [
        {
          "output_type": "stream",
          "text": [
            "γ0 = 0.854936, ρ0 = 1.000000\n",
            "γ1 = 0.846790, ρ1 = 0.994758\n",
            "γ2 = 0.831688, ρ2 = 0.982872\n",
            "γ3 = 0.811612, ρ3 = 0.966316\n",
            "γ4 = 0.790689, ρ4 = 0.947134\n",
            "γ5 = 0.771372, ρ5 = 0.927458\n",
            "γ6 = 0.754002, ρ6 = 0.909901\n",
            "γ7 = 0.741536, ρ7 = 0.895285\n",
            "γ8 = 0.732485, ρ8 = 0.883549\n",
            "γ9 = 0.724433, ρ9 = 0.873098\n",
            "γ10 = 0.719710, ρ10 = 0.861380\n",
            "γ11 = 0.711290, ρ11 = 0.846217\n",
            "γ12 = 0.699557, ρ12 = 0.827345\n",
            "γ13 = 0.677508, ρ13 = 0.803450\n",
            "γ14 = 0.651937, ρ14 = 0.775846\n",
            "γ15 = 0.625039, ρ15 = 0.746507\n",
            "γ16 = 0.598921, ρ16 = 0.717290\n",
            "γ17 = 0.575168, ρ17 = 0.689737\n",
            "γ18 = 0.555611, ρ18 = 0.666205\n",
            "γ19 = 0.540421, ρ19 = 0.647147\n",
            "γ20 = 0.528034, ρ20 = 0.631553\n",
            "γ21 = 0.517533, ρ21 = 0.618446\n",
            "γ22 = 0.507553, ρ22 = 0.606582\n",
            "γ23 = 0.495814, ρ23 = 0.593326\n",
            "γ24 = 0.482275, ρ24 = 0.578523\n",
            "γ25 = 0.464044, ρ25 = 0.558722\n",
            "γ26 = 0.443440, ρ26 = 0.536161\n",
            "γ27 = 0.422266, ρ27 = 0.512672\n",
            "γ28 = 0.401306, ρ28 = 0.489004\n",
            "γ29 = 0.382756, ρ29 = 0.467383\n",
            "γ30 = 0.367779, ρ30 = 0.449576\n",
            "γ31 = 0.357577, ρ31 = 0.436643\n",
            "γ32 = 0.350696, ρ32 = 0.427410\n",
            "γ33 = 0.346314, ρ33 = 0.421090\n",
            "γ34 = 0.342798, ρ34 = 0.415971\n",
            "γ35 = 0.338269, ρ35 = 0.409519\n",
            "γ36 = 0.331882, ρ36 = 0.400818\n",
            "γ37 = 0.322869, ρ37 = 0.389073\n",
            "γ38 = 0.310364, ρ38 = 0.373500\n",
            "γ39 = 0.296054, ρ39 = 0.355842\n",
            "γ40 = 0.281977, ρ40 = 0.338294\n"
          ],
          "name": "stdout"
        }
      ]
    },
    {
      "cell_type": "markdown",
      "metadata": {
        "id": "PQw8h99_v8yp",
        "colab_type": "text"
      },
      "source": [
        "## 時系列解析ライブラリ\n",
        "\n",
        "時系列解析には，statsmodelsライブラリも利用できる。\n",
        "\n",
        "- acovf() は自己共分散関数を計算\n",
        "- acf() は自己相関関数を計算\n",
        "\n",
        "各メソッドのオプション unbiased = True で不偏推定，Falseで最尤推定となる．\n",
        "\n"
      ]
    },
    {
      "cell_type": "code",
      "metadata": {
        "tags": [],
        "id": "vRFimHRjv8yq",
        "colab_type": "code",
        "colab": {
          "base_uri": "https://localhost:8080/",
          "height": 1000
        },
        "outputId": "e7291eb6-f21e-4ae5-de79-980086d3b3ef"
      },
      "source": [
        "import statsmodels.api as sm\n",
        "from statsmodels.tsa import stattools\n",
        "\n",
        "#欠損値がある場合は nan が含まれる．\n",
        "#欠損個所を補間したデータを使わない場合は以下の行をコメントアウトする\n",
        "y_series = df_timeseries['y_fillna']\n",
        "\n",
        "print('自己共分散関数')\n",
        "y_acovf = stattools.acovf(y_series,unbiased=True)\n",
        "display(y_acovf)\n",
        "print('自己相関関数')\n",
        "y_acf = stattools.acf(y_series,unbiased=True)\n",
        "display(y_acf)\n"
      ],
      "execution_count": 9,
      "outputs": [
        {
          "output_type": "stream",
          "text": [
            "自己共分散関数\n"
          ],
          "name": "stdout"
        },
        {
          "output_type": "display_data",
          "data": {
            "text/plain": [
              "array([ 0.84727217,  0.8393089 ,  0.82582414,  0.80866702,  0.78945516,\n",
              "        0.7707485 ,  0.75421412,  0.74113779,  0.73105141,  0.72260811,\n",
              "        0.71323587,  0.70135006,  0.68626002,  0.66657745,  0.64312181,\n",
              "        0.61794531,  0.59285379,  0.56963054,  0.55047811,  0.5352223 ,\n",
              "        0.52352088,  0.51351313,  0.50409656,  0.49307996,  0.48067863,\n",
              "        0.46394502,  0.44523033,  0.42607911,  0.40734447,  0.39095393,\n",
              "        0.37795684,  0.36918496,  0.36324682,  0.3598545 ,  0.35741135,\n",
              "        0.35377742,  0.34802548,  0.33995162,  0.32871598,  0.31575712,\n",
              "        0.30262355,  0.29029535,  0.28089225,  0.27477309,  0.27157122,\n",
              "        0.2697973 ,  0.26787228,  0.26481799,  0.26016203,  0.25104051,\n",
              "        0.23895678,  0.2255372 ,  0.2118232 ,  0.19958925,  0.19011556,\n",
              "        0.18408881,  0.18102039,  0.18095876,  0.18261134,  0.18307041,\n",
              "        0.18189475,  0.17895692,  0.17421438,  0.16740261,  0.15995988,\n",
              "        0.15334   ,  0.14980928,  0.14965545,  0.15236255,  0.15593043,\n",
              "        0.15923131,  0.1616864 ,  0.16202271,  0.15825989,  0.15290043,\n",
              "        0.14609167,  0.13875621,  0.13150735,  0.12522431,  0.12033115,\n",
              "        0.11701426,  0.11500242,  0.11405837,  0.1109173 ,  0.1057741 ,\n",
              "        0.0983159 ,  0.08731073,  0.07327373,  0.05707807,  0.04015416,\n",
              "        0.02477748,  0.01154499,  0.00105543, -0.00780241, -0.01526958,\n",
              "       -0.02150151, -0.02845471, -0.03874919, -0.05087256, -0.06527076,\n",
              "       -0.08157683, -0.09891214, -0.11552885, -0.13161598, -0.14707401,\n",
              "       -0.16130284, -0.17466878, -0.18891926, -0.20409589, -0.21988563,\n",
              "       -0.23660331, -0.25339086, -0.27029771, -0.28639   , -0.30019484,\n",
              "       -0.31193191, -0.32125966, -0.32875263, -0.33553419, -0.34268394,\n",
              "       -0.35077182, -0.36212247, -0.37520985, -0.3896129 , -0.40465613,\n",
              "       -0.41945996, -0.43237201, -0.44315602, -0.45272847, -0.46001891,\n",
              "       -0.4656426 , -0.47149622, -0.47823126, -0.48560194, -0.49477908,\n",
              "       -0.50403798, -0.51336473, -0.52267537, -0.52955755, -0.53471762,\n",
              "       -0.53745931, -0.53885908, -0.53958725, -0.53997233, -0.53978084,\n",
              "       -0.54177497, -0.54482606, -0.54848594, -0.55199446, -0.55542638,\n",
              "       -0.55734064, -0.55616851, -0.55395258, -0.54961308, -0.54442775,\n",
              "       -0.53961357, -0.5360297 , -0.53400126, -0.53300014, -0.53208853,\n",
              "       -0.53120645, -0.53008643, -0.52746575, -0.52400428, -0.51915271,\n",
              "       -0.51427268, -0.51042007, -0.50879412, -0.50826741, -0.51023799,\n",
              "       -0.51375866, -0.51868074, -0.52455295, -0.53042276, -0.53567969,\n",
              "       -0.53894364, -0.54101634, -0.54247849, -0.54239763, -0.54158423,\n",
              "       -0.54001605, -0.53726061, -0.53568831, -0.53509972, -0.53496102,\n",
              "       -0.53459653, -0.53278528, -0.52949743, -0.52374792, -0.51618849,\n",
              "       -0.50752534, -0.49828228, -0.48953978, -0.48295098, -0.47724665,\n",
              "       -0.47145199, -0.46364732, -0.45452   , -0.44248301, -0.4277325 ,\n",
              "       -0.41168753, -0.39511864, -0.37905878, -0.36495982, -0.35352252,\n",
              "       -0.3446124 , -0.33936057, -0.33636074, -0.33365648, -0.33094678,\n",
              "       -0.32577165, -0.31838318, -0.30846735, -0.29723092, -0.28533642,\n",
              "       -0.27406132, -0.26466364, -0.25812886, -0.25343049, -0.25014208,\n",
              "       -0.24693641, -0.24265738, -0.23587015, -0.22619718, -0.2144827 ,\n",
              "       -0.20154871, -0.18809094, -0.17534874, -0.16369433, -0.15327887,\n",
              "       -0.14502859, -0.14147232, -0.13761038, -0.13264492, -0.12436568,\n",
              "       -0.11192968, -0.09594619, -0.07659474, -0.0568151 , -0.03834221,\n",
              "       -0.02426896, -0.01723038, -0.01486715, -0.0169534 , -0.02014756,\n",
              "       -0.02765025, -0.0329301 , -0.03230143, -0.02844219, -0.02113459,\n",
              "       -0.01273293, -0.00793695, -0.00945266, -0.01705454, -0.03176314,\n",
              "       -0.05012182, -0.06953501, -0.08730956, -0.09899771, -0.10210199,\n",
              "       -0.09650084, -0.08680102, -0.07737789, -0.07093562, -0.07071174,\n",
              "       -0.07849221, -0.08979112, -0.10366051, -0.11604139, -0.12732936,\n",
              "       -0.13494628, -0.13521833, -0.13208183, -0.12343907, -0.11251921,\n",
              "       -0.10183447, -0.09628503, -0.09464327, -0.09738799, -0.10087272,\n",
              "       -0.10346712, -0.10179826, -0.09100813, -0.07343412, -0.04947957,\n",
              "       -0.02460688,  0.0026302 ,  0.02762291,  0.04337471,  0.0455202 ,\n",
              "        0.04380408,  0.03880744,  0.0326285 ,  0.02833101,  0.02805303,\n",
              "        0.03746636,  0.05207449,  0.07531243,  0.10308915,  0.12824638,\n",
              "        0.14565291,  0.15426985,  0.156433  ,  0.15460717,  0.15019425,\n",
              "        0.14634638,  0.15503523,  0.17172043,  0.19752334,  0.22766317,\n",
              "        0.25960946,  0.29165396,  0.30935489,  0.30543577,  0.29395129,\n",
              "        0.277315  ,  0.25619265,  0.23384102,  0.21198391,  0.20785334,\n",
              "        0.20608363,  0.22462045,  0.24812332,  0.27211036,  0.28243361,\n",
              "        0.2710617 ,  0.23749566,  0.19102191,  0.13906083,  0.07635972,\n",
              "        0.02996523, -0.01108098, -0.021591  , -0.04488983, -0.0919061 ,\n",
              "       -0.0723317 ])"
            ]
          },
          "metadata": {
            "tags": []
          }
        },
        {
          "output_type": "stream",
          "text": [
            "自己相関関数\n"
          ],
          "name": "stdout"
        },
        {
          "output_type": "display_data",
          "data": {
            "text/plain": [
              "array([1.        , 0.99060128, 0.97468578, 0.95443596, 0.93176099,\n",
              "       0.90968231, 0.89016746, 0.87473401, 0.86282949, 0.85286421,\n",
              "       0.84180254, 0.82777422, 0.80996407, 0.78673355, 0.75904985,\n",
              "       0.72933507, 0.69972059, 0.67231117, 0.64970635, 0.63170056,\n",
              "       0.61788985, 0.60607812, 0.59496415, 0.58196171, 0.56732493,\n",
              "       0.54757495, 0.52548679, 0.5028834 , 0.48077168, 0.46142662,\n",
              "       0.44608669, 0.4357336 , 0.42872507, 0.42472125, 0.42183771,\n",
              "       0.41754874, 0.41075996, 0.40123071, 0.38796976, 0.37267496,\n",
              "       0.35717395])"
            ]
          },
          "metadata": {
            "tags": []
          }
        }
      ]
    },
    {
      "cell_type": "markdown",
      "metadata": {
        "id": "HUEbfge8v8yy",
        "colab_type": "text"
      },
      "source": [
        "## 原系列のコレログラムの表示\n",
        "\n",
        "自己相関のグラフをコレログラムとよぶ。コレログラムは次のコマンドで表示できる。"
      ]
    },
    {
      "cell_type": "code",
      "metadata": {
        "id": "MoEWzcYFv8yz",
        "colab_type": "code",
        "colab": {
          "base_uri": "https://localhost:8080/",
          "height": 284
        },
        "outputId": "7f364c67-2314-401c-8cf4-c35666735924"
      },
      "source": [
        "fig = sm.graphics.tsa.plot_acf(y_series,lags=nlags)"
      ],
      "execution_count": 10,
      "outputs": [
        {
          "output_type": "display_data",
          "data": {
            "image/png": "[encoded data removed]",
            "text/plain": [
              "<Figure size 432x288 with 1 Axes>"
            ]
          },
          "metadata": {
            "tags": [],
            "needs_background": "light"
          }
        }
      ]
    },
    {
      "cell_type": "markdown",
      "metadata": {
        "id": "AGeQyJeov8y5",
        "colab_type": "text"
      },
      "source": [
        "## 階差系列の分析\n",
        "\n",
        "ひとつ前の値との差分をとった系列を階差系列とよぶ。\n",
        "\n",
        "$\\Delta y_n = y_{n} - y_{n-1}$\n"
      ]
    },
    {
      "cell_type": "code",
      "metadata": {
        "id": "Mm7L1eviv8y6",
        "colab_type": "code",
        "colab": {
          "base_uri": "https://localhost:8080/",
          "height": 725
        },
        "outputId": "1ff03f25-2d7f-49e6-b64d-fb8a3ce0df7a"
      },
      "source": [
        "# 欠損データの補間を行わない場合\n",
        "#df_timeseries['y_diff'] = df_timeseries['y'].diff()\n",
        "# 欠損データを補間を行う場合\n",
        "df_timeseries['y_diff'] = df_timeseries['y_fillna'].diff()\n",
        "display(df_timeseries)\n",
        "df_timeseries.plot(x='t', y='y_diff', figsize=(16,4), title='{}の階差系列'.format(strtitle))\n",
        "\n"
      ],
      "execution_count": 11,
      "outputs": [
        {
          "output_type": "display_data",
          "data": {
            "text/html": [
              "<div>\n",
              "<style scoped>\n",
              "    .dataframe tbody tr th:only-of-type {\n",
              "        vertical-align: middle;\n",
              "    }\n",
              "\n",
              "    .dataframe tbody tr th {\n",
              "        vertical-align: top;\n",
              "    }\n",
              "\n",
              "    .dataframe thead th {\n",
              "        text-align: right;\n",
              "    }\n",
              "</style>\n",
              "<table border=\"1\" class=\"dataframe\">\n",
              "  <thead>\n",
              "    <tr style=\"text-align: right;\">\n",
              "      <th></th>\n",
              "      <th>t</th>\n",
              "      <th>y</th>\n",
              "      <th>y_fillna</th>\n",
              "      <th>y_diff</th>\n",
              "    </tr>\n",
              "  </thead>\n",
              "  <tbody>\n",
              "    <tr>\n",
              "      <th>0</th>\n",
              "      <td>2020-07-01 00:00:00+09:00</td>\n",
              "      <td>42.27</td>\n",
              "      <td>42.27</td>\n",
              "      <td>NaN</td>\n",
              "    </tr>\n",
              "    <tr>\n",
              "      <th>1</th>\n",
              "      <td>2020-07-01 01:00:00+09:00</td>\n",
              "      <td>42.29</td>\n",
              "      <td>42.29</td>\n",
              "      <td>0.02</td>\n",
              "    </tr>\n",
              "    <tr>\n",
              "      <th>2</th>\n",
              "      <td>2020-07-01 02:00:00+09:00</td>\n",
              "      <td>42.31</td>\n",
              "      <td>42.31</td>\n",
              "      <td>0.02</td>\n",
              "    </tr>\n",
              "    <tr>\n",
              "      <th>3</th>\n",
              "      <td>2020-07-01 03:00:00+09:00</td>\n",
              "      <td>42.32</td>\n",
              "      <td>42.32</td>\n",
              "      <td>0.01</td>\n",
              "    </tr>\n",
              "    <tr>\n",
              "      <th>4</th>\n",
              "      <td>2020-07-01 04:00:00+09:00</td>\n",
              "      <td>42.43</td>\n",
              "      <td>42.43</td>\n",
              "      <td>0.11</td>\n",
              "    </tr>\n",
              "    <tr>\n",
              "      <th>...</th>\n",
              "      <td>...</td>\n",
              "      <td>...</td>\n",
              "      <td>...</td>\n",
              "      <td>...</td>\n",
              "    </tr>\n",
              "    <tr>\n",
              "      <th>331</th>\n",
              "      <td>2020-07-14 19:00:00+09:00</td>\n",
              "      <td>44.25</td>\n",
              "      <td>44.25</td>\n",
              "      <td>0.10</td>\n",
              "    </tr>\n",
              "    <tr>\n",
              "      <th>332</th>\n",
              "      <td>2020-07-14 20:00:00+09:00</td>\n",
              "      <td>44.24</td>\n",
              "      <td>44.24</td>\n",
              "      <td>-0.01</td>\n",
              "    </tr>\n",
              "    <tr>\n",
              "      <th>333</th>\n",
              "      <td>2020-07-14 21:00:00+09:00</td>\n",
              "      <td>44.24</td>\n",
              "      <td>44.24</td>\n",
              "      <td>0.00</td>\n",
              "    </tr>\n",
              "    <tr>\n",
              "      <th>334</th>\n",
              "      <td>2020-07-14 22:00:00+09:00</td>\n",
              "      <td>44.32</td>\n",
              "      <td>44.32</td>\n",
              "      <td>0.08</td>\n",
              "    </tr>\n",
              "    <tr>\n",
              "      <th>335</th>\n",
              "      <td>2020-07-14 23:00:00+09:00</td>\n",
              "      <td>44.30</td>\n",
              "      <td>44.30</td>\n",
              "      <td>-0.02</td>\n",
              "    </tr>\n",
              "  </tbody>\n",
              "</table>\n",
              "<p>336 rows × 4 columns</p>\n",
              "</div>"
            ],
            "text/plain": [
              "                            t      y  y_fillna  y_diff\n",
              "0   2020-07-01 00:00:00+09:00  42.27     42.27     NaN\n",
              "1   2020-07-01 01:00:00+09:00  42.29     42.29    0.02\n",
              "2   2020-07-01 02:00:00+09:00  42.31     42.31    0.02\n",
              "3   2020-07-01 03:00:00+09:00  42.32     42.32    0.01\n",
              "4   2020-07-01 04:00:00+09:00  42.43     42.43    0.11\n",
              "..                        ...    ...       ...     ...\n",
              "331 2020-07-14 19:00:00+09:00  44.25     44.25    0.10\n",
              "332 2020-07-14 20:00:00+09:00  44.24     44.24   -0.01\n",
              "333 2020-07-14 21:00:00+09:00  44.24     44.24    0.00\n",
              "334 2020-07-14 22:00:00+09:00  44.32     44.32    0.08\n",
              "335 2020-07-14 23:00:00+09:00  44.30     44.30   -0.02\n",
              "\n",
              "[336 rows x 4 columns]"
            ]
          },
          "metadata": {
            "tags": []
          }
        },
        {
          "output_type": "execute_result",
          "data": {
            "text/plain": [
              "<matplotlib.axes._subplots.AxesSubplot at 0x7fc2358e7b38>"
            ]
          },
          "metadata": {
            "tags": []
          },
          "execution_count": 11
        },
        {
          "output_type": "display_data",
          "data": {
            "image/png": "[encoded data removed]",
            "text/plain": [
              "<Figure size 1152x288 with 1 Axes>"
            ]
          },
          "metadata": {
            "tags": [],
            "needs_background": "light"
          }
        }
      ]
    },
    {
      "cell_type": "markdown",
      "metadata": {
        "id": "uT9XTjvGv8y9",
        "colab_type": "text"
      },
      "source": [
        "ヒストグラムをプロット\n"
      ]
    },
    {
      "cell_type": "code",
      "metadata": {
        "id": "c4o5hoywv8y-",
        "colab_type": "code",
        "colab": {
          "base_uri": "https://localhost:8080/",
          "height": 303
        },
        "outputId": "d6772467-79e0-4cae-dc29-9aae58b454bc"
      },
      "source": [
        "ax = df_timeseries.hist('y_diff')\n",
        "ax[0][0].set_title(strtitle)"
      ],
      "execution_count": 12,
      "outputs": [
        {
          "output_type": "execute_result",
          "data": {
            "text/plain": [
              "Text(0.5, 1.0, '水位グラフ[小千谷]')"
            ]
          },
          "metadata": {
            "tags": []
          },
          "execution_count": 12
        },
        {
          "output_type": "display_data",
          "data": {
            "image/png": "[encoded data removed]",
            "text/plain": [
              "<Figure size 432x288 with 1 Axes>"
            ]
          },
          "metadata": {
            "tags": [],
            "needs_background": "light"
          }
        }
      ]
    },
    {
      "cell_type": "markdown",
      "metadata": {
        "id": "HJQ-SmcDv8zA",
        "colab_type": "text"
      },
      "source": [
        "原系列 $y_n$ と階差系列 $\\Delta y_n$ のCSVへの出力"
      ]
    },
    {
      "cell_type": "code",
      "metadata": {
        "id": "HcG160WMv8zB",
        "colab_type": "code",
        "colab": {}
      },
      "source": [
        "#df_timeseries.to_csv('./data/sample02_03.csv',index=False)"
      ],
      "execution_count": 13,
      "outputs": []
    }
  ]
}